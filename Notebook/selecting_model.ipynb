{
  "nbformat": 4,
  "nbformat_minor": 0,
  "metadata": {
    "colab": {
      "provenance": [],
      "collapsed_sections": [
        "01bgwLgzGaFQ",
        "2zNwTAPUGlBJ",
        "uD3MbZK3CKjo",
        "ipvP43lnCQhZ",
        "4MuSA1eECgOT",
        "L6QbLBFwHkn1",
        "UjTh0ZiiK9Q7",
        "bF_ifrsvQtTg",
        "BUvwrqbuBMg_",
        "0ozNQN1rFpCa",
        "1TmevFO3Fzz9",
        "8SnUxyGDMgYa"
      ],
      "gpuType": "T4"
    },
    "kernelspec": {
      "name": "python3",
      "display_name": "Python 3"
    },
    "language_info": {
      "name": "python"
    },
    "accelerator": "GPU",
    "widgets": {
      "application/vnd.jupyter.widget-state+json": {
        "3cddad851389457a887b00e9dc34bc29": {
          "model_module": "@jupyter-widgets/controls",
          "model_name": "HBoxModel",
          "model_module_version": "1.5.0",
          "state": {
            "_dom_classes": [],
            "_model_module": "@jupyter-widgets/controls",
            "_model_module_version": "1.5.0",
            "_model_name": "HBoxModel",
            "_view_count": null,
            "_view_module": "@jupyter-widgets/controls",
            "_view_module_version": "1.5.0",
            "_view_name": "HBoxView",
            "box_style": "",
            "children": [
              "IPY_MODEL_968768bcae884e4fb7d00e229d54fe51",
              "IPY_MODEL_51a90173907241689d61da102e041bb1",
              "IPY_MODEL_3c0fa1057a994f9cb6b08ed6f00005b8"
            ],
            "layout": "IPY_MODEL_de0d794bc5dc4ce9a58325450e838fdc"
          }
        },
        "968768bcae884e4fb7d00e229d54fe51": {
          "model_module": "@jupyter-widgets/controls",
          "model_name": "HTMLModel",
          "model_module_version": "1.5.0",
          "state": {
            "_dom_classes": [],
            "_model_module": "@jupyter-widgets/controls",
            "_model_module_version": "1.5.0",
            "_model_name": "HTMLModel",
            "_view_count": null,
            "_view_module": "@jupyter-widgets/controls",
            "_view_module_version": "1.5.0",
            "_view_name": "HTMLView",
            "description": "",
            "description_tooltip": null,
            "layout": "IPY_MODEL_eff5c7cff3c149e8bbeaca06633ca9a4",
            "placeholder": "​",
            "style": "IPY_MODEL_87de4a78a155415a8809dbde6cd42a30",
            "value": "Optimization Progress: 100%"
          }
        },
        "51a90173907241689d61da102e041bb1": {
          "model_module": "@jupyter-widgets/controls",
          "model_name": "FloatProgressModel",
          "model_module_version": "1.5.0",
          "state": {
            "_dom_classes": [],
            "_model_module": "@jupyter-widgets/controls",
            "_model_module_version": "1.5.0",
            "_model_name": "FloatProgressModel",
            "_view_count": null,
            "_view_module": "@jupyter-widgets/controls",
            "_view_module_version": "1.5.0",
            "_view_name": "ProgressView",
            "bar_style": "",
            "description": "",
            "description_tooltip": null,
            "layout": "IPY_MODEL_1a8ab3f0ba4c4f2696d673c12d919c7c",
            "max": 120,
            "min": 0,
            "orientation": "horizontal",
            "style": "IPY_MODEL_966bc6b667c74b74a37e0533ebdb4a5b",
            "value": 120
          }
        },
        "3c0fa1057a994f9cb6b08ed6f00005b8": {
          "model_module": "@jupyter-widgets/controls",
          "model_name": "HTMLModel",
          "model_module_version": "1.5.0",
          "state": {
            "_dom_classes": [],
            "_model_module": "@jupyter-widgets/controls",
            "_model_module_version": "1.5.0",
            "_model_name": "HTMLModel",
            "_view_count": null,
            "_view_module": "@jupyter-widgets/controls",
            "_view_module_version": "1.5.0",
            "_view_name": "HTMLView",
            "description": "",
            "description_tooltip": null,
            "layout": "IPY_MODEL_f376b26c28ba4024988bf7d149674634",
            "placeholder": "​",
            "style": "IPY_MODEL_48509b310e374e7d8246024ad877d376",
            "value": " 120/120 [29:04&lt;00:00, 19.56s/pipeline]"
          }
        },
        "de0d794bc5dc4ce9a58325450e838fdc": {
          "model_module": "@jupyter-widgets/base",
          "model_name": "LayoutModel",
          "model_module_version": "1.2.0",
          "state": {
            "_model_module": "@jupyter-widgets/base",
            "_model_module_version": "1.2.0",
            "_model_name": "LayoutModel",
            "_view_count": null,
            "_view_module": "@jupyter-widgets/base",
            "_view_module_version": "1.2.0",
            "_view_name": "LayoutView",
            "align_content": null,
            "align_items": null,
            "align_self": null,
            "border": null,
            "bottom": null,
            "display": null,
            "flex": null,
            "flex_flow": null,
            "grid_area": null,
            "grid_auto_columns": null,
            "grid_auto_flow": null,
            "grid_auto_rows": null,
            "grid_column": null,
            "grid_gap": null,
            "grid_row": null,
            "grid_template_areas": null,
            "grid_template_columns": null,
            "grid_template_rows": null,
            "height": null,
            "justify_content": null,
            "justify_items": null,
            "left": null,
            "margin": null,
            "max_height": null,
            "max_width": null,
            "min_height": null,
            "min_width": null,
            "object_fit": null,
            "object_position": null,
            "order": null,
            "overflow": null,
            "overflow_x": null,
            "overflow_y": null,
            "padding": null,
            "right": null,
            "top": null,
            "visibility": "hidden",
            "width": null
          }
        },
        "eff5c7cff3c149e8bbeaca06633ca9a4": {
          "model_module": "@jupyter-widgets/base",
          "model_name": "LayoutModel",
          "model_module_version": "1.2.0",
          "state": {
            "_model_module": "@jupyter-widgets/base",
            "_model_module_version": "1.2.0",
            "_model_name": "LayoutModel",
            "_view_count": null,
            "_view_module": "@jupyter-widgets/base",
            "_view_module_version": "1.2.0",
            "_view_name": "LayoutView",
            "align_content": null,
            "align_items": null,
            "align_self": null,
            "border": null,
            "bottom": null,
            "display": null,
            "flex": null,
            "flex_flow": null,
            "grid_area": null,
            "grid_auto_columns": null,
            "grid_auto_flow": null,
            "grid_auto_rows": null,
            "grid_column": null,
            "grid_gap": null,
            "grid_row": null,
            "grid_template_areas": null,
            "grid_template_columns": null,
            "grid_template_rows": null,
            "height": null,
            "justify_content": null,
            "justify_items": null,
            "left": null,
            "margin": null,
            "max_height": null,
            "max_width": null,
            "min_height": null,
            "min_width": null,
            "object_fit": null,
            "object_position": null,
            "order": null,
            "overflow": null,
            "overflow_x": null,
            "overflow_y": null,
            "padding": null,
            "right": null,
            "top": null,
            "visibility": null,
            "width": null
          }
        },
        "87de4a78a155415a8809dbde6cd42a30": {
          "model_module": "@jupyter-widgets/controls",
          "model_name": "DescriptionStyleModel",
          "model_module_version": "1.5.0",
          "state": {
            "_model_module": "@jupyter-widgets/controls",
            "_model_module_version": "1.5.0",
            "_model_name": "DescriptionStyleModel",
            "_view_count": null,
            "_view_module": "@jupyter-widgets/base",
            "_view_module_version": "1.2.0",
            "_view_name": "StyleView",
            "description_width": ""
          }
        },
        "1a8ab3f0ba4c4f2696d673c12d919c7c": {
          "model_module": "@jupyter-widgets/base",
          "model_name": "LayoutModel",
          "model_module_version": "1.2.0",
          "state": {
            "_model_module": "@jupyter-widgets/base",
            "_model_module_version": "1.2.0",
            "_model_name": "LayoutModel",
            "_view_count": null,
            "_view_module": "@jupyter-widgets/base",
            "_view_module_version": "1.2.0",
            "_view_name": "LayoutView",
            "align_content": null,
            "align_items": null,
            "align_self": null,
            "border": null,
            "bottom": null,
            "display": null,
            "flex": null,
            "flex_flow": null,
            "grid_area": null,
            "grid_auto_columns": null,
            "grid_auto_flow": null,
            "grid_auto_rows": null,
            "grid_column": null,
            "grid_gap": null,
            "grid_row": null,
            "grid_template_areas": null,
            "grid_template_columns": null,
            "grid_template_rows": null,
            "height": null,
            "justify_content": null,
            "justify_items": null,
            "left": null,
            "margin": null,
            "max_height": null,
            "max_width": null,
            "min_height": null,
            "min_width": null,
            "object_fit": null,
            "object_position": null,
            "order": null,
            "overflow": null,
            "overflow_x": null,
            "overflow_y": null,
            "padding": null,
            "right": null,
            "top": null,
            "visibility": null,
            "width": null
          }
        },
        "966bc6b667c74b74a37e0533ebdb4a5b": {
          "model_module": "@jupyter-widgets/controls",
          "model_name": "ProgressStyleModel",
          "model_module_version": "1.5.0",
          "state": {
            "_model_module": "@jupyter-widgets/controls",
            "_model_module_version": "1.5.0",
            "_model_name": "ProgressStyleModel",
            "_view_count": null,
            "_view_module": "@jupyter-widgets/base",
            "_view_module_version": "1.2.0",
            "_view_name": "StyleView",
            "bar_color": null,
            "description_width": ""
          }
        },
        "f376b26c28ba4024988bf7d149674634": {
          "model_module": "@jupyter-widgets/base",
          "model_name": "LayoutModel",
          "model_module_version": "1.2.0",
          "state": {
            "_model_module": "@jupyter-widgets/base",
            "_model_module_version": "1.2.0",
            "_model_name": "LayoutModel",
            "_view_count": null,
            "_view_module": "@jupyter-widgets/base",
            "_view_module_version": "1.2.0",
            "_view_name": "LayoutView",
            "align_content": null,
            "align_items": null,
            "align_self": null,
            "border": null,
            "bottom": null,
            "display": null,
            "flex": null,
            "flex_flow": null,
            "grid_area": null,
            "grid_auto_columns": null,
            "grid_auto_flow": null,
            "grid_auto_rows": null,
            "grid_column": null,
            "grid_gap": null,
            "grid_row": null,
            "grid_template_areas": null,
            "grid_template_columns": null,
            "grid_template_rows": null,
            "height": null,
            "justify_content": null,
            "justify_items": null,
            "left": null,
            "margin": null,
            "max_height": null,
            "max_width": null,
            "min_height": null,
            "min_width": null,
            "object_fit": null,
            "object_position": null,
            "order": null,
            "overflow": null,
            "overflow_x": null,
            "overflow_y": null,
            "padding": null,
            "right": null,
            "top": null,
            "visibility": null,
            "width": null
          }
        },
        "48509b310e374e7d8246024ad877d376": {
          "model_module": "@jupyter-widgets/controls",
          "model_name": "DescriptionStyleModel",
          "model_module_version": "1.5.0",
          "state": {
            "_model_module": "@jupyter-widgets/controls",
            "_model_module_version": "1.5.0",
            "_model_name": "DescriptionStyleModel",
            "_view_count": null,
            "_view_module": "@jupyter-widgets/base",
            "_view_module_version": "1.2.0",
            "_view_name": "StyleView",
            "description_width": ""
          }
        },
        "94316c6be834459eb1f1022f0c845b00": {
          "model_module": "@jupyter-widgets/controls",
          "model_name": "HBoxModel",
          "model_module_version": "1.5.0",
          "state": {
            "_dom_classes": [],
            "_model_module": "@jupyter-widgets/controls",
            "_model_module_version": "1.5.0",
            "_model_name": "HBoxModel",
            "_view_count": null,
            "_view_module": "@jupyter-widgets/controls",
            "_view_module_version": "1.5.0",
            "_view_name": "HBoxView",
            "box_style": "",
            "children": [
              "IPY_MODEL_30b0cf369cba48e985a134889c8ad24d",
              "IPY_MODEL_7e6288d568fd41889f082f4225373666",
              "IPY_MODEL_64354ddaf18a4d189ccaa78255ee585f"
            ],
            "layout": "IPY_MODEL_a51341a5d2c74b798906b7243f676a9f"
          }
        },
        "30b0cf369cba48e985a134889c8ad24d": {
          "model_module": "@jupyter-widgets/controls",
          "model_name": "HTMLModel",
          "model_module_version": "1.5.0",
          "state": {
            "_dom_classes": [],
            "_model_module": "@jupyter-widgets/controls",
            "_model_module_version": "1.5.0",
            "_model_name": "HTMLModel",
            "_view_count": null,
            "_view_module": "@jupyter-widgets/controls",
            "_view_module_version": "1.5.0",
            "_view_name": "HTMLView",
            "description": "",
            "description_tooltip": null,
            "layout": "IPY_MODEL_527fc7dde51b4de28d14403364aec302",
            "placeholder": "​",
            "style": "IPY_MODEL_98428713edb24948a459bd15c065b058",
            "value": "Optimization Progress:  79%"
          }
        },
        "7e6288d568fd41889f082f4225373666": {
          "model_module": "@jupyter-widgets/controls",
          "model_name": "FloatProgressModel",
          "model_module_version": "1.5.0",
          "state": {
            "_dom_classes": [],
            "_model_module": "@jupyter-widgets/controls",
            "_model_module_version": "1.5.0",
            "_model_name": "FloatProgressModel",
            "_view_count": null,
            "_view_module": "@jupyter-widgets/controls",
            "_view_module_version": "1.5.0",
            "_view_name": "ProgressView",
            "bar_style": "",
            "description": "",
            "description_tooltip": null,
            "layout": "IPY_MODEL_9c9df56c28854419ad5594ccc7fd65fe",
            "max": 84,
            "min": 0,
            "orientation": "horizontal",
            "style": "IPY_MODEL_dd47d9dca7084b6b8daa5189a5a47dfd",
            "value": 66
          }
        },
        "64354ddaf18a4d189ccaa78255ee585f": {
          "model_module": "@jupyter-widgets/controls",
          "model_name": "HTMLModel",
          "model_module_version": "1.5.0",
          "state": {
            "_dom_classes": [],
            "_model_module": "@jupyter-widgets/controls",
            "_model_module_version": "1.5.0",
            "_model_name": "HTMLModel",
            "_view_count": null,
            "_view_module": "@jupyter-widgets/controls",
            "_view_module_version": "1.5.0",
            "_view_name": "HTMLView",
            "description": "",
            "description_tooltip": null,
            "layout": "IPY_MODEL_9c4e2ad1fbba4c23b10d852f24de8f7f",
            "placeholder": "​",
            "style": "IPY_MODEL_17496a7dbc71420e88086278f3eb1c1b",
            "value": " 66/84 [2:38:53&lt;32:32, 108.46s/pipeline]"
          }
        },
        "a51341a5d2c74b798906b7243f676a9f": {
          "model_module": "@jupyter-widgets/base",
          "model_name": "LayoutModel",
          "model_module_version": "1.2.0",
          "state": {
            "_model_module": "@jupyter-widgets/base",
            "_model_module_version": "1.2.0",
            "_model_name": "LayoutModel",
            "_view_count": null,
            "_view_module": "@jupyter-widgets/base",
            "_view_module_version": "1.2.0",
            "_view_name": "LayoutView",
            "align_content": null,
            "align_items": null,
            "align_self": null,
            "border": null,
            "bottom": null,
            "display": null,
            "flex": null,
            "flex_flow": null,
            "grid_area": null,
            "grid_auto_columns": null,
            "grid_auto_flow": null,
            "grid_auto_rows": null,
            "grid_column": null,
            "grid_gap": null,
            "grid_row": null,
            "grid_template_areas": null,
            "grid_template_columns": null,
            "grid_template_rows": null,
            "height": null,
            "justify_content": null,
            "justify_items": null,
            "left": null,
            "margin": null,
            "max_height": null,
            "max_width": null,
            "min_height": null,
            "min_width": null,
            "object_fit": null,
            "object_position": null,
            "order": null,
            "overflow": null,
            "overflow_x": null,
            "overflow_y": null,
            "padding": null,
            "right": null,
            "top": null,
            "visibility": null,
            "width": null
          }
        },
        "527fc7dde51b4de28d14403364aec302": {
          "model_module": "@jupyter-widgets/base",
          "model_name": "LayoutModel",
          "model_module_version": "1.2.0",
          "state": {
            "_model_module": "@jupyter-widgets/base",
            "_model_module_version": "1.2.0",
            "_model_name": "LayoutModel",
            "_view_count": null,
            "_view_module": "@jupyter-widgets/base",
            "_view_module_version": "1.2.0",
            "_view_name": "LayoutView",
            "align_content": null,
            "align_items": null,
            "align_self": null,
            "border": null,
            "bottom": null,
            "display": null,
            "flex": null,
            "flex_flow": null,
            "grid_area": null,
            "grid_auto_columns": null,
            "grid_auto_flow": null,
            "grid_auto_rows": null,
            "grid_column": null,
            "grid_gap": null,
            "grid_row": null,
            "grid_template_areas": null,
            "grid_template_columns": null,
            "grid_template_rows": null,
            "height": null,
            "justify_content": null,
            "justify_items": null,
            "left": null,
            "margin": null,
            "max_height": null,
            "max_width": null,
            "min_height": null,
            "min_width": null,
            "object_fit": null,
            "object_position": null,
            "order": null,
            "overflow": null,
            "overflow_x": null,
            "overflow_y": null,
            "padding": null,
            "right": null,
            "top": null,
            "visibility": null,
            "width": null
          }
        },
        "98428713edb24948a459bd15c065b058": {
          "model_module": "@jupyter-widgets/controls",
          "model_name": "DescriptionStyleModel",
          "model_module_version": "1.5.0",
          "state": {
            "_model_module": "@jupyter-widgets/controls",
            "_model_module_version": "1.5.0",
            "_model_name": "DescriptionStyleModel",
            "_view_count": null,
            "_view_module": "@jupyter-widgets/base",
            "_view_module_version": "1.2.0",
            "_view_name": "StyleView",
            "description_width": ""
          }
        },
        "9c9df56c28854419ad5594ccc7fd65fe": {
          "model_module": "@jupyter-widgets/base",
          "model_name": "LayoutModel",
          "model_module_version": "1.2.0",
          "state": {
            "_model_module": "@jupyter-widgets/base",
            "_model_module_version": "1.2.0",
            "_model_name": "LayoutModel",
            "_view_count": null,
            "_view_module": "@jupyter-widgets/base",
            "_view_module_version": "1.2.0",
            "_view_name": "LayoutView",
            "align_content": null,
            "align_items": null,
            "align_self": null,
            "border": null,
            "bottom": null,
            "display": null,
            "flex": null,
            "flex_flow": null,
            "grid_area": null,
            "grid_auto_columns": null,
            "grid_auto_flow": null,
            "grid_auto_rows": null,
            "grid_column": null,
            "grid_gap": null,
            "grid_row": null,
            "grid_template_areas": null,
            "grid_template_columns": null,
            "grid_template_rows": null,
            "height": null,
            "justify_content": null,
            "justify_items": null,
            "left": null,
            "margin": null,
            "max_height": null,
            "max_width": null,
            "min_height": null,
            "min_width": null,
            "object_fit": null,
            "object_position": null,
            "order": null,
            "overflow": null,
            "overflow_x": null,
            "overflow_y": null,
            "padding": null,
            "right": null,
            "top": null,
            "visibility": null,
            "width": null
          }
        },
        "dd47d9dca7084b6b8daa5189a5a47dfd": {
          "model_module": "@jupyter-widgets/controls",
          "model_name": "ProgressStyleModel",
          "model_module_version": "1.5.0",
          "state": {
            "_model_module": "@jupyter-widgets/controls",
            "_model_module_version": "1.5.0",
            "_model_name": "ProgressStyleModel",
            "_view_count": null,
            "_view_module": "@jupyter-widgets/base",
            "_view_module_version": "1.2.0",
            "_view_name": "StyleView",
            "bar_color": null,
            "description_width": ""
          }
        },
        "9c4e2ad1fbba4c23b10d852f24de8f7f": {
          "model_module": "@jupyter-widgets/base",
          "model_name": "LayoutModel",
          "model_module_version": "1.2.0",
          "state": {
            "_model_module": "@jupyter-widgets/base",
            "_model_module_version": "1.2.0",
            "_model_name": "LayoutModel",
            "_view_count": null,
            "_view_module": "@jupyter-widgets/base",
            "_view_module_version": "1.2.0",
            "_view_name": "LayoutView",
            "align_content": null,
            "align_items": null,
            "align_self": null,
            "border": null,
            "bottom": null,
            "display": null,
            "flex": null,
            "flex_flow": null,
            "grid_area": null,
            "grid_auto_columns": null,
            "grid_auto_flow": null,
            "grid_auto_rows": null,
            "grid_column": null,
            "grid_gap": null,
            "grid_row": null,
            "grid_template_areas": null,
            "grid_template_columns": null,
            "grid_template_rows": null,
            "height": null,
            "justify_content": null,
            "justify_items": null,
            "left": null,
            "margin": null,
            "max_height": null,
            "max_width": null,
            "min_height": null,
            "min_width": null,
            "object_fit": null,
            "object_position": null,
            "order": null,
            "overflow": null,
            "overflow_x": null,
            "overflow_y": null,
            "padding": null,
            "right": null,
            "top": null,
            "visibility": null,
            "width": null
          }
        },
        "17496a7dbc71420e88086278f3eb1c1b": {
          "model_module": "@jupyter-widgets/controls",
          "model_name": "DescriptionStyleModel",
          "model_module_version": "1.5.0",
          "state": {
            "_model_module": "@jupyter-widgets/controls",
            "_model_module_version": "1.5.0",
            "_model_name": "DescriptionStyleModel",
            "_view_count": null,
            "_view_module": "@jupyter-widgets/base",
            "_view_module_version": "1.2.0",
            "_view_name": "StyleView",
            "description_width": ""
          }
        }
      }
    }
  },
  "cells": [
    {
      "cell_type": "code",
      "source": [
        "import numpy as np\n",
        "import matplotlib as plt\n",
        "import seaborn as sns\n",
        "import pandas as pd\n",
        "!unzip /content/72ptz43s9v-1.zip\n",
        "df = pd.read_csv('/content/dataset_small.csv')"
      ],
      "metadata": {
        "colab": {
          "base_uri": "https://localhost:8080/"
        },
        "id": "Y8vSBfTUSZ_8",
        "outputId": "b92c235e-960b-49c6-961d-32fe430d14c3"
      },
      "execution_count": 1,
      "outputs": [
        {
          "output_type": "stream",
          "name": "stdout",
          "text": [
            "Archive:  /content/72ptz43s9v-1.zip\n",
            "  inflating: dataset_small.csv       \n",
            "  inflating: dataset_full.csv        \n"
          ]
        }
      ]
    },
    {
      "cell_type": "markdown",
      "source": [
        "# **Data Cleaning**"
      ],
      "metadata": {
        "id": "01bgwLgzGaFQ"
      }
    },
    {
      "cell_type": "code",
      "source": [
        "skipped_features = [\n",
        "    'time_response',\n",
        "    'domain_spf',\n",
        "    'asn_ip',\n",
        "    'qty_ip_resolved',\n",
        "    'qty_nameservers',\n",
        "    'qty_mx_servers',\n",
        "    'ttl_hostname',\n",
        "    'tls_ssl_certificate',\n",
        "    'qty_redirects',\n",
        "    'url_google_index',\n",
        "    'domain_google_index',\n",
        "    'url_shortened',\n",
        "    'time_domain_activation',\n",
        "    'time_domain_expiration',\n",
        "]\n",
        "\n",
        "\n",
        "df = df.drop(skipped_features,axis=1)"
      ],
      "metadata": {
        "id": "mTgF-cQ6GYi1"
      },
      "execution_count": 2,
      "outputs": []
    },
    {
      "cell_type": "code",
      "source": [
        "class DataCleaning:\n",
        "\n",
        "    def __init__(self, df, missing_threshold, corr_threshold):\n",
        "        self.df = df\n",
        "        self.missing_threshold = missing_threshold\n",
        "        self.corr_threshold = corr_threshold\n",
        "\n",
        "    def col_with_variance_0(self):\n",
        "        columns_to_drop = []\n",
        "        numerical_columns = [col for col in self.df.columns if self.df[col].dtype != 'O']\n",
        "        for col in numerical_columns:\n",
        "            if self.df[col].std() == 0:\n",
        "                columns_to_drop.append(col)\n",
        "        return columns_to_drop\n",
        "\n",
        "    def get_redundant_cols(self):\n",
        "        cols_missing_ratios = self.df.isna().sum().div(self.df.shape[0])\n",
        "        cols_to_drop = list(cols_missing_ratios[cols_missing_ratios > self.missing_threshold].index)\n",
        "        return cols_to_drop\n",
        "\n",
        "    def dropping_columns_on_basis_of_correlation(self):\n",
        "        columns_to_drop = set()\n",
        "        relation = self.df.corr()\n",
        "        for columns in range(len(relation.columns)):\n",
        "            for rows in range(columns):\n",
        "                if abs(relation.iloc[columns, rows]) > self.corr_threshold:\n",
        "                    col_name = relation.columns[columns]\n",
        "                    columns_to_drop.add(col_name)\n",
        "        columns_to_drop = list(columns_to_drop)\n",
        "        return columns_to_drop\n",
        "\n",
        "    def feature_scaling_df(self):\n",
        "        cols_to_drop_1 = self.get_redundant_cols()\n",
        "        cols_to_drop_2 = self.col_with_variance_0()\n",
        "        cols_to_drop_3 = self.dropping_columns_on_basis_of_correlation()\n",
        "        columns_to_drop = cols_to_drop_1 + cols_to_drop_2 + cols_to_drop_3\n",
        "        columns_to_drop = set(columns_to_drop)\n",
        "        return columns_to_drop\n",
        "\n",
        "\n",
        "clean = DataCleaning(df, 0.8, 0.8)\n",
        "drop_columns = clean.feature_scaling_df()\n",
        "print(drop_columns)\n",
        "df2 = df.drop(columns=drop_columns)"
      ],
      "metadata": {
        "colab": {
          "base_uri": "https://localhost:8080/"
        },
        "id": "EfZb2OQ4UuRF",
        "outputId": "c8382797-8c25-452f-9423-8ff17673e061"
      },
      "execution_count": 3,
      "outputs": [
        {
          "output_type": "stream",
          "name": "stdout",
          "text": [
            "{'qty_comma_params', 'qty_asterisk_directory', 'params_length', 'qty_tilde_params', 'qty_equal_file', 'qty_equal_domain', 'qty_tilde_directory', 'qty_dot_file', 'qty_slash_file', 'qty_equal_params', 'qty_and_file', 'qty_dollar_directory', 'qty_questionmark_domain', 'qty_asterisk_domain', 'qty_at_file', 'qty_plus_file', 'qty_equal_directory', 'tld_present_params', 'qty_at_directory', 'qty_hashtag_directory', 'qty_underline_file', 'qty_tilde_file', 'qty_percent_domain', 'domain_length', 'qty_comma_file', 'qty_space_domain', 'qty_comma_directory', 'qty_percent_file', 'qty_percent_directory', 'qty_at_params', 'qty_plus_domain', 'qty_space_directory', 'qty_hashtag_params', 'qty_hashtag_domain', 'qty_exclamation_file', 'qty_params', 'qty_tilde_domain', 'qty_exclamation_params', 'qty_dollar_domain', 'qty_and_params', 'qty_plus_directory', 'qty_and_domain', 'qty_exclamation_domain', 'qty_and_directory', 'qty_slash_directory', 'qty_dollar_params', 'qty_and_url', 'qty_space_params', 'qty_space_file', 'qty_exclamation_directory', 'qty_slash_domain', 'qty_asterisk_params', 'qty_comma_domain', 'qty_hashtag_file', 'qty_plus_params', 'qty_questionmark_file', 'qty_asterisk_file', 'qty_dollar_file'}\n"
          ]
        }
      ]
    },
    {
      "cell_type": "code",
      "source": [
        "len(drop_columns)"
      ],
      "metadata": {
        "colab": {
          "base_uri": "https://localhost:8080/"
        },
        "id": "lun5y-TnikQZ",
        "outputId": "428d7b1f-ad3c-4e9f-8122-53b717513929"
      },
      "execution_count": 4,
      "outputs": [
        {
          "output_type": "execute_result",
          "data": {
            "text/plain": [
              "58"
            ]
          },
          "metadata": {},
          "execution_count": 4
        }
      ]
    },
    {
      "cell_type": "markdown",
      "source": [
        "# **Data Transformation**"
      ],
      "metadata": {
        "id": "2zNwTAPUGlBJ"
      }
    },
    {
      "cell_type": "code",
      "source": [
        "from sklearn.preprocessing import StandardScaler\n",
        "from xgboost import XGBClassifier\n",
        "from sklearn.model_selection import train_test_split\n",
        "from sklearn.decomposition import PCA"
      ],
      "metadata": {
        "id": "ObdPFLo9U7C4"
      },
      "execution_count": 5,
      "outputs": []
    },
    {
      "cell_type": "code",
      "source": [
        "X = df2.drop(columns='phishing',axis=1)\n",
        "y = df2['phishing']"
      ],
      "metadata": {
        "id": "Gm_dtZrBiYlN"
      },
      "execution_count": 6,
      "outputs": []
    },
    {
      "cell_type": "code",
      "source": [
        "X_train, X_test, y_train, y_test = train_test_split(X ,y, test_size=0.25, random_state=42)"
      ],
      "metadata": {
        "id": "ZfbVpmMSG01H"
      },
      "execution_count": 7,
      "outputs": []
    },
    {
      "cell_type": "code",
      "source": [
        "scaler = StandardScaler()\n",
        "X_scaled_train = scaler.fit_transform(X_train)\n",
        "X_scaled_test = scaler.transform(X_test)"
      ],
      "metadata": {
        "id": "PJF3eJoNG3H8"
      },
      "execution_count": 8,
      "outputs": []
    },
    {
      "cell_type": "code",
      "source": [
        "pca = PCA(n_components=20)\n",
        "X_pca_train = pca.fit_transform(X_scaled_train)\n",
        "X_pca_test = pca.transform(X_scaled_test)"
      ],
      "metadata": {
        "id": "GBQzAa9lG5KL"
      },
      "execution_count": 9,
      "outputs": []
    },
    {
      "cell_type": "markdown",
      "source": [
        "# **HyperOPT**"
      ],
      "metadata": {
        "id": "uD3MbZK3CKjo"
      }
    },
    {
      "cell_type": "code",
      "source": [
        "!pip install hyperopt"
      ],
      "metadata": {
        "colab": {
          "base_uri": "https://localhost:8080/"
        },
        "id": "wDOoyhaJYOHG",
        "outputId": "7105b5da-b574-4034-e2be-d4b4ca90f37f"
      },
      "execution_count": null,
      "outputs": [
        {
          "output_type": "stream",
          "name": "stdout",
          "text": [
            "Requirement already satisfied: hyperopt in /usr/local/lib/python3.10/dist-packages (0.2.7)\n",
            "Requirement already satisfied: numpy in /usr/local/lib/python3.10/dist-packages (from hyperopt) (1.23.5)\n",
            "Requirement already satisfied: scipy in /usr/local/lib/python3.10/dist-packages (from hyperopt) (1.11.4)\n",
            "Requirement already satisfied: six in /usr/local/lib/python3.10/dist-packages (from hyperopt) (1.16.0)\n",
            "Requirement already satisfied: networkx>=2.2 in /usr/local/lib/python3.10/dist-packages (from hyperopt) (3.2.1)\n",
            "Requirement already satisfied: future in /usr/local/lib/python3.10/dist-packages (from hyperopt) (0.18.3)\n",
            "Requirement already satisfied: tqdm in /usr/local/lib/python3.10/dist-packages (from hyperopt) (4.66.1)\n",
            "Requirement already satisfied: cloudpickle in /usr/local/lib/python3.10/dist-packages (from hyperopt) (2.2.1)\n",
            "Requirement already satisfied: py4j in /usr/local/lib/python3.10/dist-packages (from hyperopt) (0.10.9.7)\n"
          ]
        }
      ]
    },
    {
      "cell_type": "markdown",
      "source": [
        "# XGBClassifier"
      ],
      "metadata": {
        "id": "ipvP43lnCQhZ"
      }
    },
    {
      "cell_type": "code",
      "source": [
        "from hyperopt import hp,fmin,tpe,STATUS_OK,Trials,space_eval\n",
        "\n",
        "space = {\n",
        "    'learning_rate': hp.uniform('learning_rate', 0.01, 0.3),\n",
        "    'max_depth': hp.choice('max_depth', range(3, 15)),\n",
        "    'min_child_weight': hp.quniform('min_child_weight', 1, 10, 1),\n",
        "    'subsample': hp.uniform('subsample', 0.5, 1),\n",
        "    'gamma': hp.uniform('gamma', 0, 1),\n",
        "    'colsample_bytree': hp.uniform('colsample_bytree', 0.5, 1),\n",
        "    'n_estimators': hp.choice('n_estimators', range(50, 500)),\n",
        "}\n",
        "\n",
        "space"
      ],
      "metadata": {
        "colab": {
          "base_uri": "https://localhost:8080/"
        },
        "id": "U1jrgVLiSc9A",
        "outputId": "2b288316-c948-43d5-d4d7-5dd66978f800"
      },
      "execution_count": null,
      "outputs": [
        {
          "output_type": "execute_result",
          "data": {
            "text/plain": [
              "{'learning_rate': <hyperopt.pyll.base.Apply at 0x7a3da6288d00>,\n",
              " 'max_depth': <hyperopt.pyll.base.Apply at 0x7a3d9fdf2b90>,\n",
              " 'min_child_weight': <hyperopt.pyll.base.Apply at 0x7a3d9fdf2ec0>,\n",
              " 'subsample': <hyperopt.pyll.base.Apply at 0x7a3d9fdf2fe0>,\n",
              " 'gamma': <hyperopt.pyll.base.Apply at 0x7a3d9fdf3100>,\n",
              " 'colsample_bytree': <hyperopt.pyll.base.Apply at 0x7a3d9fdf3220>,\n",
              " 'n_estimators': <hyperopt.pyll.base.Apply at 0x7a3d9fdf3340>}"
            ]
          },
          "metadata": {},
          "execution_count": 12
        }
      ]
    },
    {
      "cell_type": "code",
      "source": [
        "from xgboost import XGBClassifier\n",
        "from sklearn.model_selection import cross_val_score\n",
        "\n",
        "def objective(space):\n",
        "  model = XGBClassifier(\n",
        "      learning_rate = space['learning_rate'],\n",
        "      max_depth = space['max_depth'],\n",
        "      min_child_weight = space['min_child_weight'],\n",
        "      subsample = space['subsample'],\n",
        "      gamma = space['gamma'],\n",
        "      colsample_bytree = space['colsample_bytree'],\n",
        "      n_estimators = space['n_estimators']\n",
        "  )\n",
        "  accuracy = cross_val_score(model, X_pca_train, y_train, cv = 5).mean()\n",
        "\n",
        "  # We aim to maximize accuracy, therefore we return it as a negative value\n",
        "  return {'loss': accuracy, 'status': STATUS_OK }"
      ],
      "metadata": {
        "id": "LEwTtlv2Ys29"
      },
      "execution_count": null,
      "outputs": []
    },
    {
      "cell_type": "code",
      "source": [
        "trials = Trials()\n",
        "best = fmin(fn= objective,\n",
        "            space= space,\n",
        "            algo= tpe.suggest,\n",
        "            max_evals = 80,\n",
        "            trials= trials)\n",
        "best"
      ],
      "metadata": {
        "colab": {
          "base_uri": "https://localhost:8080/"
        },
        "id": "2YIlcyaDHIQ7",
        "outputId": "bdbcb80f-32f3-4b35-bc35-d0b9d3363e02"
      },
      "execution_count": null,
      "outputs": [
        {
          "output_type": "stream",
          "name": "stdout",
          "text": [
            "100%|██████████| 80/80 [19:49<00:00, 14.87s/trial, best loss: 0.8543072866370016]\n"
          ]
        },
        {
          "output_type": "execute_result",
          "data": {
            "text/plain": [
              "{'colsample_bytree': 0.9226435233167982,\n",
              " 'gamma': 0.07428468227320731,\n",
              " 'learning_rate': 0.010899447619528022,\n",
              " 'max_depth': 0,\n",
              " 'min_child_weight': 10.0,\n",
              " 'n_estimators': 40,\n",
              " 'subsample': 0.9956101034428355}"
            ]
          },
          "metadata": {},
          "execution_count": 14
        }
      ]
    },
    {
      "cell_type": "code",
      "source": [
        "# Retrieve the best parameters\n",
        "best_params = space_eval(space, best)\n",
        "print(\"Best Hyperparameters:\")\n",
        "print(best_params)"
      ],
      "metadata": {
        "colab": {
          "base_uri": "https://localhost:8080/"
        },
        "id": "IFtCdMS2aLHb",
        "outputId": "3fc6180f-fe91-4da6-cb0b-c6dadb8e1d7f"
      },
      "execution_count": null,
      "outputs": [
        {
          "output_type": "stream",
          "name": "stdout",
          "text": [
            "Best Hyperparameters:\n",
            "{'colsample_bytree': 0.9226435233167982, 'gamma': 0.07428468227320731, 'learning_rate': 0.010899447619528022, 'max_depth': 3, 'min_child_weight': 10.0, 'n_estimators': 90, 'subsample': 0.9956101034428355}\n"
          ]
        }
      ]
    },
    {
      "cell_type": "code",
      "source": [
        "from xgboost import XGBClassifier\n",
        "from sklearn.metrics import accuracy_score\n",
        "\n",
        "xgb_hyp = XGBClassifier(\n",
        "    learning_rate=best_params['learning_rate'],\n",
        "    n_estimators =best_params['n_estimators'],\n",
        "    max_depth=best_params['max_depth'],\n",
        "    min_child_weight=best_params['min_child_weight'],\n",
        "    subsample=best_params['subsample'],\n",
        "    colsample_bytree=best_params['colsample_bytree']\n",
        ")\n",
        "\n",
        "xgb_hyp.fit(X_pca_train, y_train)\n",
        "\n",
        "# Evaluate the performance of the XGBoost classifier\n",
        "y_pred_xgb_hyp = xgb_hyp.predict(X_pca_test)\n",
        "score_xgb_hyp = accuracy_score(y_test, y_pred_xgb_hyp)\n",
        "print('Accuracy of XGBClassifier using HyperOPT:', score_xgb_hyp)"
      ],
      "metadata": {
        "colab": {
          "base_uri": "https://localhost:8080/"
        },
        "id": "o7vVZdSCfqG_",
        "outputId": "a301ef0e-4f17-48e1-ff30-c37c5cc0de9d"
      },
      "execution_count": null,
      "outputs": [
        {
          "output_type": "stream",
          "name": "stdout",
          "text": [
            "Accuracy of XGBClassifier using HyperOPT: 0.8518619560769336\n"
          ]
        }
      ]
    },
    {
      "cell_type": "markdown",
      "source": [
        "# Random Forest Classifier"
      ],
      "metadata": {
        "id": "4MuSA1eECgOT"
      }
    },
    {
      "cell_type": "code",
      "source": [
        "space = {\n",
        "    'criterion': hp.choice('criterion', ['entropy', 'gini']),\n",
        "    'max_depth': hp.quniform('max_depth', 10, 1200, 10),\n",
        "    'max_features': hp.choice('max_features', ['auto', 'sqrt', 'log2', None]),\n",
        "    'min_samples_leaf': hp.uniform('min_samples_leaf', 0, 0.5),\n",
        "    'min_samples_split': hp.uniform('min_samples_split', 0, 1),\n",
        "    'n_estimators': hp.choice('n_estimators', [10, 50, 300, 750, 1200, 1300, 1500])\n",
        "}"
      ],
      "metadata": {
        "id": "3GI2lL--CmFx"
      },
      "execution_count": null,
      "outputs": []
    },
    {
      "cell_type": "code",
      "source": [
        "from sklearn.ensemble import RandomForestClassifier\n",
        "\n",
        "def objective(space):\n",
        "    # Round 'max_depth' to an integer\n",
        "    space['max_depth'] = int(space['max_depth'])\n",
        "\n",
        "    model = RandomForestClassifier(\n",
        "        criterion=space['criterion'],\n",
        "        max_depth=space['max_depth'],\n",
        "        max_features=space['max_features'],\n",
        "        min_samples_leaf=space['min_samples_leaf'],\n",
        "        min_samples_split=space['min_samples_split'],\n",
        "        n_estimators=space['n_estimators']\n",
        "    )\n",
        "\n",
        "    accuracy = cross_val_score(model, X_pca_train, y_train, cv=5).mean()\n",
        "\n",
        "    # We aim to maximize accuracy, therefore we return it as a negative value\n",
        "    return {'loss': -accuracy, 'status': STATUS_OK }"
      ],
      "metadata": {
        "id": "wWGZevOKCmCV"
      },
      "execution_count": null,
      "outputs": []
    },
    {
      "cell_type": "code",
      "source": [
        "from sklearn.model_selection import cross_val_score\n",
        "\n",
        "trials = Trials()\n",
        "best = fmin(fn= objective,\n",
        "            space= space,\n",
        "            algo= tpe.suggest,\n",
        "            max_evals = 80,\n",
        "            trials= trials)\n",
        "best"
      ],
      "metadata": {
        "colab": {
          "base_uri": "https://localhost:8080/"
        },
        "id": "RkvkVMYVCl_S",
        "outputId": "8dd5ca1f-ff78-42a8-9575-c956c61d9372"
      },
      "execution_count": null,
      "outputs": [
        {
          "metadata": {
            "tags": null
          },
          "name": "stdout",
          "output_type": "stream",
          "text": [
            "  1%|▏         | 1/80 [00:01<02:32,  1.93s/trial, best loss: -0.5226337444092287]"
          ]
        },
        {
          "metadata": {
            "tags": null
          },
          "name": "stderr",
          "output_type": "stream",
          "text": [
            "/usr/local/lib/python3.10/dist-packages/sklearn/ensemble/_forest.py:424: FutureWarning: `max_features='auto'` has been deprecated in 1.1 and will be removed in 1.3. To keep the past behaviour, explicitly set `max_features='sqrt'` or remove this parameter as it is also the default value for RandomForestClassifiers and ExtraTreesClassifiers.\n",
            "  warn(\n",
            "\n",
            "/usr/local/lib/python3.10/dist-packages/sklearn/ensemble/_forest.py:424: FutureWarning: `max_features='auto'` has been deprecated in 1.1 and will be removed in 1.3. To keep the past behaviour, explicitly set `max_features='sqrt'` or remove this parameter as it is also the default value for RandomForestClassifiers and ExtraTreesClassifiers.\n",
            "  warn(\n",
            "\n",
            "/usr/local/lib/python3.10/dist-packages/sklearn/ensemble/_forest.py:424: FutureWarning: `max_features='auto'` has been deprecated in 1.1 and will be removed in 1.3. To keep the past behaviour, explicitly set `max_features='sqrt'` or remove this parameter as it is also the default value for RandomForestClassifiers and ExtraTreesClassifiers.\n",
            "  warn(\n",
            "\n"
          ]
        },
        {
          "metadata": {
            "tags": null
          },
          "name": "stdout",
          "output_type": "stream",
          "text": [
            "\r  2%|▎         | 2/80 [00:02<01:24,  1.08s/trial, best loss: -0.5226337444092287]"
          ]
        },
        {
          "metadata": {
            "tags": null
          },
          "name": "stderr",
          "output_type": "stream",
          "text": [
            "/usr/local/lib/python3.10/dist-packages/sklearn/ensemble/_forest.py:424: FutureWarning: `max_features='auto'` has been deprecated in 1.1 and will be removed in 1.3. To keep the past behaviour, explicitly set `max_features='sqrt'` or remove this parameter as it is also the default value for RandomForestClassifiers and ExtraTreesClassifiers.\n",
            "  warn(\n",
            "\n",
            "/usr/local/lib/python3.10/dist-packages/sklearn/ensemble/_forest.py:424: FutureWarning: `max_features='auto'` has been deprecated in 1.1 and will be removed in 1.3. To keep the past behaviour, explicitly set `max_features='sqrt'` or remove this parameter as it is also the default value for RandomForestClassifiers and ExtraTreesClassifiers.\n",
            "  warn(\n",
            "\n"
          ]
        },
        {
          "output_type": "stream",
          "name": "stdout",
          "text": [
            "  5%|▌         | 4/80 [06:22<3:10:13, 150.18s/trial, best loss: -0.8311620093728468]"
          ]
        },
        {
          "output_type": "stream",
          "name": "stderr",
          "text": [
            "/usr/local/lib/python3.10/dist-packages/sklearn/ensemble/_forest.py:424: FutureWarning: `max_features='auto'` has been deprecated in 1.1 and will be removed in 1.3. To keep the past behaviour, explicitly set `max_features='sqrt'` or remove this parameter as it is also the default value for RandomForestClassifiers and ExtraTreesClassifiers.\n",
            "  warn(\n",
            "\n",
            "/usr/local/lib/python3.10/dist-packages/sklearn/ensemble/_forest.py:424: FutureWarning: `max_features='auto'` has been deprecated in 1.1 and will be removed in 1.3. To keep the past behaviour, explicitly set `max_features='sqrt'` or remove this parameter as it is also the default value for RandomForestClassifiers and ExtraTreesClassifiers.\n",
            "  warn(\n",
            "\n",
            "/usr/local/lib/python3.10/dist-packages/sklearn/ensemble/_forest.py:424: FutureWarning: `max_features='auto'` has been deprecated in 1.1 and will be removed in 1.3. To keep the past behaviour, explicitly set `max_features='sqrt'` or remove this parameter as it is also the default value for RandomForestClassifiers and ExtraTreesClassifiers.\n",
            "  warn(\n",
            "\n",
            "/usr/local/lib/python3.10/dist-packages/sklearn/ensemble/_forest.py:424: FutureWarning: `max_features='auto'` has been deprecated in 1.1 and will be removed in 1.3. To keep the past behaviour, explicitly set `max_features='sqrt'` or remove this parameter as it is also the default value for RandomForestClassifiers and ExtraTreesClassifiers.\n",
            "  warn(\n",
            "\n",
            "/usr/local/lib/python3.10/dist-packages/sklearn/ensemble/_forest.py:424: FutureWarning: `max_features='auto'` has been deprecated in 1.1 and will be removed in 1.3. To keep the past behaviour, explicitly set `max_features='sqrt'` or remove this parameter as it is also the default value for RandomForestClassifiers and ExtraTreesClassifiers.\n",
            "  warn(\n",
            "\n"
          ]
        },
        {
          "output_type": "stream",
          "name": "stdout",
          "text": [
            " 12%|█▎        | 10/80 [09:08<45:23, 38.91s/trial, best loss: -0.8311620093728468]"
          ]
        },
        {
          "output_type": "stream",
          "name": "stderr",
          "text": [
            "/usr/local/lib/python3.10/dist-packages/sklearn/ensemble/_forest.py:424: FutureWarning: `max_features='auto'` has been deprecated in 1.1 and will be removed in 1.3. To keep the past behaviour, explicitly set `max_features='sqrt'` or remove this parameter as it is also the default value for RandomForestClassifiers and ExtraTreesClassifiers.\n",
            "  warn(\n",
            "\n",
            "/usr/local/lib/python3.10/dist-packages/sklearn/ensemble/_forest.py:424: FutureWarning: `max_features='auto'` has been deprecated in 1.1 and will be removed in 1.3. To keep the past behaviour, explicitly set `max_features='sqrt'` or remove this parameter as it is also the default value for RandomForestClassifiers and ExtraTreesClassifiers.\n",
            "  warn(\n",
            "\n",
            "/usr/local/lib/python3.10/dist-packages/sklearn/ensemble/_forest.py:424: FutureWarning: `max_features='auto'` has been deprecated in 1.1 and will be removed in 1.3. To keep the past behaviour, explicitly set `max_features='sqrt'` or remove this parameter as it is also the default value for RandomForestClassifiers and ExtraTreesClassifiers.\n",
            "  warn(\n",
            "\n",
            "/usr/local/lib/python3.10/dist-packages/sklearn/ensemble/_forest.py:424: FutureWarning: `max_features='auto'` has been deprecated in 1.1 and will be removed in 1.3. To keep the past behaviour, explicitly set `max_features='sqrt'` or remove this parameter as it is also the default value for RandomForestClassifiers and ExtraTreesClassifiers.\n",
            "  warn(\n",
            "\n",
            "/usr/local/lib/python3.10/dist-packages/sklearn/ensemble/_forest.py:424: FutureWarning: `max_features='auto'` has been deprecated in 1.1 and will be removed in 1.3. To keep the past behaviour, explicitly set `max_features='sqrt'` or remove this parameter as it is also the default value for RandomForestClassifiers and ExtraTreesClassifiers.\n",
            "  warn(\n",
            "\n"
          ]
        },
        {
          "output_type": "stream",
          "name": "stdout",
          "text": [
            "\r 14%|█▍        | 11/80 [09:12<32:15, 28.05s/trial, best loss: -0.8311620093728468]"
          ]
        },
        {
          "output_type": "stream",
          "name": "stderr",
          "text": [
            "/usr/local/lib/python3.10/dist-packages/sklearn/ensemble/_forest.py:424: FutureWarning: `max_features='auto'` has been deprecated in 1.1 and will be removed in 1.3. To keep the past behaviour, explicitly set `max_features='sqrt'` or remove this parameter as it is also the default value for RandomForestClassifiers and ExtraTreesClassifiers.\n",
            "  warn(\n",
            "\n",
            "/usr/local/lib/python3.10/dist-packages/sklearn/ensemble/_forest.py:424: FutureWarning: `max_features='auto'` has been deprecated in 1.1 and will be removed in 1.3. To keep the past behaviour, explicitly set `max_features='sqrt'` or remove this parameter as it is also the default value for RandomForestClassifiers and ExtraTreesClassifiers.\n",
            "  warn(\n",
            "\n",
            "/usr/local/lib/python3.10/dist-packages/sklearn/ensemble/_forest.py:424: FutureWarning: `max_features='auto'` has been deprecated in 1.1 and will be removed in 1.3. To keep the past behaviour, explicitly set `max_features='sqrt'` or remove this parameter as it is also the default value for RandomForestClassifiers and ExtraTreesClassifiers.\n",
            "  warn(\n",
            "\n",
            "/usr/local/lib/python3.10/dist-packages/sklearn/ensemble/_forest.py:424: FutureWarning: `max_features='auto'` has been deprecated in 1.1 and will be removed in 1.3. To keep the past behaviour, explicitly set `max_features='sqrt'` or remove this parameter as it is also the default value for RandomForestClassifiers and ExtraTreesClassifiers.\n",
            "  warn(\n",
            "\n",
            "/usr/local/lib/python3.10/dist-packages/sklearn/ensemble/_forest.py:424: FutureWarning: `max_features='auto'` has been deprecated in 1.1 and will be removed in 1.3. To keep the past behaviour, explicitly set `max_features='sqrt'` or remove this parameter as it is also the default value for RandomForestClassifiers and ExtraTreesClassifiers.\n",
            "  warn(\n",
            "\n"
          ]
        },
        {
          "output_type": "stream",
          "name": "stdout",
          "text": [
            " 38%|███▊      | 30/80 [33:39<1:03:15, 75.91s/trial, best loss: -0.849782830901208]"
          ]
        },
        {
          "output_type": "stream",
          "name": "stderr",
          "text": [
            "/usr/local/lib/python3.10/dist-packages/sklearn/ensemble/_forest.py:424: FutureWarning: `max_features='auto'` has been deprecated in 1.1 and will be removed in 1.3. To keep the past behaviour, explicitly set `max_features='sqrt'` or remove this parameter as it is also the default value for RandomForestClassifiers and ExtraTreesClassifiers.\n",
            "  warn(\n",
            "\n",
            "/usr/local/lib/python3.10/dist-packages/sklearn/ensemble/_forest.py:424: FutureWarning: `max_features='auto'` has been deprecated in 1.1 and will be removed in 1.3. To keep the past behaviour, explicitly set `max_features='sqrt'` or remove this parameter as it is also the default value for RandomForestClassifiers and ExtraTreesClassifiers.\n",
            "  warn(\n",
            "\n",
            "/usr/local/lib/python3.10/dist-packages/sklearn/ensemble/_forest.py:424: FutureWarning: `max_features='auto'` has been deprecated in 1.1 and will be removed in 1.3. To keep the past behaviour, explicitly set `max_features='sqrt'` or remove this parameter as it is also the default value for RandomForestClassifiers and ExtraTreesClassifiers.\n",
            "  warn(\n",
            "\n",
            "/usr/local/lib/python3.10/dist-packages/sklearn/ensemble/_forest.py:424: FutureWarning: `max_features='auto'` has been deprecated in 1.1 and will be removed in 1.3. To keep the past behaviour, explicitly set `max_features='sqrt'` or remove this parameter as it is also the default value for RandomForestClassifiers and ExtraTreesClassifiers.\n",
            "  warn(\n",
            "\n",
            "/usr/local/lib/python3.10/dist-packages/sklearn/ensemble/_forest.py:424: FutureWarning: `max_features='auto'` has been deprecated in 1.1 and will be removed in 1.3. To keep the past behaviour, explicitly set `max_features='sqrt'` or remove this parameter as it is also the default value for RandomForestClassifiers and ExtraTreesClassifiers.\n",
            "  warn(\n",
            "\n"
          ]
        },
        {
          "output_type": "stream",
          "name": "stdout",
          "text": [
            "\r 39%|███▉      | 31/80 [36:55<1:31:24, 111.93s/trial, best loss: -0.849782830901208]"
          ]
        },
        {
          "output_type": "stream",
          "name": "stderr",
          "text": [
            "/usr/local/lib/python3.10/dist-packages/sklearn/ensemble/_forest.py:424: FutureWarning: `max_features='auto'` has been deprecated in 1.1 and will be removed in 1.3. To keep the past behaviour, explicitly set `max_features='sqrt'` or remove this parameter as it is also the default value for RandomForestClassifiers and ExtraTreesClassifiers.\n",
            "  warn(\n",
            "\n",
            "/usr/local/lib/python3.10/dist-packages/sklearn/ensemble/_forest.py:424: FutureWarning: `max_features='auto'` has been deprecated in 1.1 and will be removed in 1.3. To keep the past behaviour, explicitly set `max_features='sqrt'` or remove this parameter as it is also the default value for RandomForestClassifiers and ExtraTreesClassifiers.\n",
            "  warn(\n",
            "\n",
            "/usr/local/lib/python3.10/dist-packages/sklearn/ensemble/_forest.py:424: FutureWarning: `max_features='auto'` has been deprecated in 1.1 and will be removed in 1.3. To keep the past behaviour, explicitly set `max_features='sqrt'` or remove this parameter as it is also the default value for RandomForestClassifiers and ExtraTreesClassifiers.\n",
            "  warn(\n",
            "\n",
            "/usr/local/lib/python3.10/dist-packages/sklearn/ensemble/_forest.py:424: FutureWarning: `max_features='auto'` has been deprecated in 1.1 and will be removed in 1.3. To keep the past behaviour, explicitly set `max_features='sqrt'` or remove this parameter as it is also the default value for RandomForestClassifiers and ExtraTreesClassifiers.\n",
            "  warn(\n",
            "\n",
            "/usr/local/lib/python3.10/dist-packages/sklearn/ensemble/_forest.py:424: FutureWarning: `max_features='auto'` has been deprecated in 1.1 and will be removed in 1.3. To keep the past behaviour, explicitly set `max_features='sqrt'` or remove this parameter as it is also the default value for RandomForestClassifiers and ExtraTreesClassifiers.\n",
            "  warn(\n",
            "\n"
          ]
        },
        {
          "output_type": "stream",
          "name": "stdout",
          "text": [
            "\r 40%|████      | 32/80 [38:23<1:23:56, 104.92s/trial, best loss: -0.849782830901208]"
          ]
        },
        {
          "output_type": "stream",
          "name": "stderr",
          "text": [
            "/usr/local/lib/python3.10/dist-packages/sklearn/ensemble/_forest.py:424: FutureWarning: `max_features='auto'` has been deprecated in 1.1 and will be removed in 1.3. To keep the past behaviour, explicitly set `max_features='sqrt'` or remove this parameter as it is also the default value for RandomForestClassifiers and ExtraTreesClassifiers.\n",
            "  warn(\n",
            "\n",
            "/usr/local/lib/python3.10/dist-packages/sklearn/ensemble/_forest.py:424: FutureWarning: `max_features='auto'` has been deprecated in 1.1 and will be removed in 1.3. To keep the past behaviour, explicitly set `max_features='sqrt'` or remove this parameter as it is also the default value for RandomForestClassifiers and ExtraTreesClassifiers.\n",
            "  warn(\n",
            "\n",
            "/usr/local/lib/python3.10/dist-packages/sklearn/ensemble/_forest.py:424: FutureWarning: `max_features='auto'` has been deprecated in 1.1 and will be removed in 1.3. To keep the past behaviour, explicitly set `max_features='sqrt'` or remove this parameter as it is also the default value for RandomForestClassifiers and ExtraTreesClassifiers.\n",
            "  warn(\n",
            "\n",
            "/usr/local/lib/python3.10/dist-packages/sklearn/ensemble/_forest.py:424: FutureWarning: `max_features='auto'` has been deprecated in 1.1 and will be removed in 1.3. To keep the past behaviour, explicitly set `max_features='sqrt'` or remove this parameter as it is also the default value for RandomForestClassifiers and ExtraTreesClassifiers.\n",
            "  warn(\n",
            "\n",
            "/usr/local/lib/python3.10/dist-packages/sklearn/ensemble/_forest.py:424: FutureWarning: `max_features='auto'` has been deprecated in 1.1 and will be removed in 1.3. To keep the past behaviour, explicitly set `max_features='sqrt'` or remove this parameter as it is also the default value for RandomForestClassifiers and ExtraTreesClassifiers.\n",
            "  warn(\n",
            "\n"
          ]
        },
        {
          "output_type": "stream",
          "name": "stdout",
          "text": [
            "\r 41%|████▏     | 33/80 [38:57<1:05:20, 83.41s/trial, best loss: -0.849782830901208] "
          ]
        },
        {
          "output_type": "stream",
          "name": "stderr",
          "text": [
            "/usr/local/lib/python3.10/dist-packages/sklearn/ensemble/_forest.py:424: FutureWarning: `max_features='auto'` has been deprecated in 1.1 and will be removed in 1.3. To keep the past behaviour, explicitly set `max_features='sqrt'` or remove this parameter as it is also the default value for RandomForestClassifiers and ExtraTreesClassifiers.\n",
            "  warn(\n",
            "\n",
            "/usr/local/lib/python3.10/dist-packages/sklearn/ensemble/_forest.py:424: FutureWarning: `max_features='auto'` has been deprecated in 1.1 and will be removed in 1.3. To keep the past behaviour, explicitly set `max_features='sqrt'` or remove this parameter as it is also the default value for RandomForestClassifiers and ExtraTreesClassifiers.\n",
            "  warn(\n",
            "\n",
            "/usr/local/lib/python3.10/dist-packages/sklearn/ensemble/_forest.py:424: FutureWarning: `max_features='auto'` has been deprecated in 1.1 and will be removed in 1.3. To keep the past behaviour, explicitly set `max_features='sqrt'` or remove this parameter as it is also the default value for RandomForestClassifiers and ExtraTreesClassifiers.\n",
            "  warn(\n",
            "\n",
            "/usr/local/lib/python3.10/dist-packages/sklearn/ensemble/_forest.py:424: FutureWarning: `max_features='auto'` has been deprecated in 1.1 and will be removed in 1.3. To keep the past behaviour, explicitly set `max_features='sqrt'` or remove this parameter as it is also the default value for RandomForestClassifiers and ExtraTreesClassifiers.\n",
            "  warn(\n",
            "\n",
            "/usr/local/lib/python3.10/dist-packages/sklearn/ensemble/_forest.py:424: FutureWarning: `max_features='auto'` has been deprecated in 1.1 and will be removed in 1.3. To keep the past behaviour, explicitly set `max_features='sqrt'` or remove this parameter as it is also the default value for RandomForestClassifiers and ExtraTreesClassifiers.\n",
            "  warn(\n",
            "\n"
          ]
        },
        {
          "output_type": "stream",
          "name": "stdout",
          "text": [
            "\r 42%|████▎     | 34/80 [42:10<1:29:11, 116.35s/trial, best loss: -0.849782830901208]"
          ]
        },
        {
          "output_type": "stream",
          "name": "stderr",
          "text": [
            "/usr/local/lib/python3.10/dist-packages/sklearn/ensemble/_forest.py:424: FutureWarning: `max_features='auto'` has been deprecated in 1.1 and will be removed in 1.3. To keep the past behaviour, explicitly set `max_features='sqrt'` or remove this parameter as it is also the default value for RandomForestClassifiers and ExtraTreesClassifiers.\n",
            "  warn(\n",
            "\n",
            "/usr/local/lib/python3.10/dist-packages/sklearn/ensemble/_forest.py:424: FutureWarning: `max_features='auto'` has been deprecated in 1.1 and will be removed in 1.3. To keep the past behaviour, explicitly set `max_features='sqrt'` or remove this parameter as it is also the default value for RandomForestClassifiers and ExtraTreesClassifiers.\n",
            "  warn(\n",
            "\n",
            "/usr/local/lib/python3.10/dist-packages/sklearn/ensemble/_forest.py:424: FutureWarning: `max_features='auto'` has been deprecated in 1.1 and will be removed in 1.3. To keep the past behaviour, explicitly set `max_features='sqrt'` or remove this parameter as it is also the default value for RandomForestClassifiers and ExtraTreesClassifiers.\n",
            "  warn(\n",
            "\n",
            "/usr/local/lib/python3.10/dist-packages/sklearn/ensemble/_forest.py:424: FutureWarning: `max_features='auto'` has been deprecated in 1.1 and will be removed in 1.3. To keep the past behaviour, explicitly set `max_features='sqrt'` or remove this parameter as it is also the default value for RandomForestClassifiers and ExtraTreesClassifiers.\n",
            "  warn(\n",
            "\n",
            "/usr/local/lib/python3.10/dist-packages/sklearn/ensemble/_forest.py:424: FutureWarning: `max_features='auto'` has been deprecated in 1.1 and will be removed in 1.3. To keep the past behaviour, explicitly set `max_features='sqrt'` or remove this parameter as it is also the default value for RandomForestClassifiers and ExtraTreesClassifiers.\n",
            "  warn(\n",
            "\n"
          ]
        },
        {
          "output_type": "stream",
          "name": "stdout",
          "text": [
            "\r 44%|████▍     | 35/80 [42:42<1:08:26, 91.26s/trial, best loss: -0.849782830901208] "
          ]
        },
        {
          "output_type": "stream",
          "name": "stderr",
          "text": [
            "/usr/local/lib/python3.10/dist-packages/sklearn/ensemble/_forest.py:424: FutureWarning: `max_features='auto'` has been deprecated in 1.1 and will be removed in 1.3. To keep the past behaviour, explicitly set `max_features='sqrt'` or remove this parameter as it is also the default value for RandomForestClassifiers and ExtraTreesClassifiers.\n",
            "  warn(\n",
            "\n",
            "/usr/local/lib/python3.10/dist-packages/sklearn/ensemble/_forest.py:424: FutureWarning: `max_features='auto'` has been deprecated in 1.1 and will be removed in 1.3. To keep the past behaviour, explicitly set `max_features='sqrt'` or remove this parameter as it is also the default value for RandomForestClassifiers and ExtraTreesClassifiers.\n",
            "  warn(\n",
            "\n",
            "/usr/local/lib/python3.10/dist-packages/sklearn/ensemble/_forest.py:424: FutureWarning: `max_features='auto'` has been deprecated in 1.1 and will be removed in 1.3. To keep the past behaviour, explicitly set `max_features='sqrt'` or remove this parameter as it is also the default value for RandomForestClassifiers and ExtraTreesClassifiers.\n",
            "  warn(\n",
            "\n",
            "/usr/local/lib/python3.10/dist-packages/sklearn/ensemble/_forest.py:424: FutureWarning: `max_features='auto'` has been deprecated in 1.1 and will be removed in 1.3. To keep the past behaviour, explicitly set `max_features='sqrt'` or remove this parameter as it is also the default value for RandomForestClassifiers and ExtraTreesClassifiers.\n",
            "  warn(\n",
            "\n",
            "/usr/local/lib/python3.10/dist-packages/sklearn/ensemble/_forest.py:424: FutureWarning: `max_features='auto'` has been deprecated in 1.1 and will be removed in 1.3. To keep the past behaviour, explicitly set `max_features='sqrt'` or remove this parameter as it is also the default value for RandomForestClassifiers and ExtraTreesClassifiers.\n",
            "  warn(\n",
            "\n"
          ]
        },
        {
          "output_type": "stream",
          "name": "stdout",
          "text": [
            "\r 45%|████▌     | 36/80 [44:50<1:14:50, 102.07s/trial, best loss: -0.849782830901208]"
          ]
        },
        {
          "output_type": "stream",
          "name": "stderr",
          "text": [
            "/usr/local/lib/python3.10/dist-packages/sklearn/ensemble/_forest.py:424: FutureWarning: `max_features='auto'` has been deprecated in 1.1 and will be removed in 1.3. To keep the past behaviour, explicitly set `max_features='sqrt'` or remove this parameter as it is also the default value for RandomForestClassifiers and ExtraTreesClassifiers.\n",
            "  warn(\n",
            "\n",
            "/usr/local/lib/python3.10/dist-packages/sklearn/ensemble/_forest.py:424: FutureWarning: `max_features='auto'` has been deprecated in 1.1 and will be removed in 1.3. To keep the past behaviour, explicitly set `max_features='sqrt'` or remove this parameter as it is also the default value for RandomForestClassifiers and ExtraTreesClassifiers.\n",
            "  warn(\n",
            "\n",
            "/usr/local/lib/python3.10/dist-packages/sklearn/ensemble/_forest.py:424: FutureWarning: `max_features='auto'` has been deprecated in 1.1 and will be removed in 1.3. To keep the past behaviour, explicitly set `max_features='sqrt'` or remove this parameter as it is also the default value for RandomForestClassifiers and ExtraTreesClassifiers.\n",
            "  warn(\n",
            "\n",
            "/usr/local/lib/python3.10/dist-packages/sklearn/ensemble/_forest.py:424: FutureWarning: `max_features='auto'` has been deprecated in 1.1 and will be removed in 1.3. To keep the past behaviour, explicitly set `max_features='sqrt'` or remove this parameter as it is also the default value for RandomForestClassifiers and ExtraTreesClassifiers.\n",
            "  warn(\n",
            "\n",
            "/usr/local/lib/python3.10/dist-packages/sklearn/ensemble/_forest.py:424: FutureWarning: `max_features='auto'` has been deprecated in 1.1 and will be removed in 1.3. To keep the past behaviour, explicitly set `max_features='sqrt'` or remove this parameter as it is also the default value for RandomForestClassifiers and ExtraTreesClassifiers.\n",
            "  warn(\n",
            "\n"
          ]
        },
        {
          "output_type": "stream",
          "name": "stdout",
          "text": [
            " 48%|████▊     | 38/80 [48:52<1:21:15, 116.07s/trial, best loss: -0.849782830901208]"
          ]
        },
        {
          "output_type": "stream",
          "name": "stderr",
          "text": [
            "/usr/local/lib/python3.10/dist-packages/sklearn/ensemble/_forest.py:424: FutureWarning: `max_features='auto'` has been deprecated in 1.1 and will be removed in 1.3. To keep the past behaviour, explicitly set `max_features='sqrt'` or remove this parameter as it is also the default value for RandomForestClassifiers and ExtraTreesClassifiers.\n",
            "  warn(\n",
            "\n",
            "/usr/local/lib/python3.10/dist-packages/sklearn/ensemble/_forest.py:424: FutureWarning: `max_features='auto'` has been deprecated in 1.1 and will be removed in 1.3. To keep the past behaviour, explicitly set `max_features='sqrt'` or remove this parameter as it is also the default value for RandomForestClassifiers and ExtraTreesClassifiers.\n",
            "  warn(\n",
            "\n",
            "/usr/local/lib/python3.10/dist-packages/sklearn/ensemble/_forest.py:424: FutureWarning: `max_features='auto'` has been deprecated in 1.1 and will be removed in 1.3. To keep the past behaviour, explicitly set `max_features='sqrt'` or remove this parameter as it is also the default value for RandomForestClassifiers and ExtraTreesClassifiers.\n",
            "  warn(\n",
            "\n",
            "/usr/local/lib/python3.10/dist-packages/sklearn/ensemble/_forest.py:424: FutureWarning: `max_features='auto'` has been deprecated in 1.1 and will be removed in 1.3. To keep the past behaviour, explicitly set `max_features='sqrt'` or remove this parameter as it is also the default value for RandomForestClassifiers and ExtraTreesClassifiers.\n",
            "  warn(\n",
            "\n",
            "/usr/local/lib/python3.10/dist-packages/sklearn/ensemble/_forest.py:424: FutureWarning: `max_features='auto'` has been deprecated in 1.1 and will be removed in 1.3. To keep the past behaviour, explicitly set `max_features='sqrt'` or remove this parameter as it is also the default value for RandomForestClassifiers and ExtraTreesClassifiers.\n",
            "  warn(\n",
            "\n"
          ]
        },
        {
          "output_type": "stream",
          "name": "stdout",
          "text": [
            " 50%|█████     | 40/80 [49:46<46:41, 70.03s/trial, best loss: -0.849782830901208]  "
          ]
        },
        {
          "output_type": "stream",
          "name": "stderr",
          "text": [
            "/usr/local/lib/python3.10/dist-packages/sklearn/ensemble/_forest.py:424: FutureWarning: `max_features='auto'` has been deprecated in 1.1 and will be removed in 1.3. To keep the past behaviour, explicitly set `max_features='sqrt'` or remove this parameter as it is also the default value for RandomForestClassifiers and ExtraTreesClassifiers.\n",
            "  warn(\n",
            "\n",
            "/usr/local/lib/python3.10/dist-packages/sklearn/ensemble/_forest.py:424: FutureWarning: `max_features='auto'` has been deprecated in 1.1 and will be removed in 1.3. To keep the past behaviour, explicitly set `max_features='sqrt'` or remove this parameter as it is also the default value for RandomForestClassifiers and ExtraTreesClassifiers.\n",
            "  warn(\n",
            "\n",
            "/usr/local/lib/python3.10/dist-packages/sklearn/ensemble/_forest.py:424: FutureWarning: `max_features='auto'` has been deprecated in 1.1 and will be removed in 1.3. To keep the past behaviour, explicitly set `max_features='sqrt'` or remove this parameter as it is also the default value for RandomForestClassifiers and ExtraTreesClassifiers.\n",
            "  warn(\n",
            "\n",
            "/usr/local/lib/python3.10/dist-packages/sklearn/ensemble/_forest.py:424: FutureWarning: `max_features='auto'` has been deprecated in 1.1 and will be removed in 1.3. To keep the past behaviour, explicitly set `max_features='sqrt'` or remove this parameter as it is also the default value for RandomForestClassifiers and ExtraTreesClassifiers.\n",
            "  warn(\n",
            "\n",
            "/usr/local/lib/python3.10/dist-packages/sklearn/ensemble/_forest.py:424: FutureWarning: `max_features='auto'` has been deprecated in 1.1 and will be removed in 1.3. To keep the past behaviour, explicitly set `max_features='sqrt'` or remove this parameter as it is also the default value for RandomForestClassifiers and ExtraTreesClassifiers.\n",
            "  warn(\n",
            "\n"
          ]
        },
        {
          "output_type": "stream",
          "name": "stdout",
          "text": [
            "\r 51%|█████▏    | 41/80 [49:55<33:29, 51.53s/trial, best loss: -0.849782830901208]"
          ]
        },
        {
          "output_type": "stream",
          "name": "stderr",
          "text": [
            "/usr/local/lib/python3.10/dist-packages/sklearn/ensemble/_forest.py:424: FutureWarning: `max_features='auto'` has been deprecated in 1.1 and will be removed in 1.3. To keep the past behaviour, explicitly set `max_features='sqrt'` or remove this parameter as it is also the default value for RandomForestClassifiers and ExtraTreesClassifiers.\n",
            "  warn(\n",
            "\n",
            "/usr/local/lib/python3.10/dist-packages/sklearn/ensemble/_forest.py:424: FutureWarning: `max_features='auto'` has been deprecated in 1.1 and will be removed in 1.3. To keep the past behaviour, explicitly set `max_features='sqrt'` or remove this parameter as it is also the default value for RandomForestClassifiers and ExtraTreesClassifiers.\n",
            "  warn(\n",
            "\n",
            "/usr/local/lib/python3.10/dist-packages/sklearn/ensemble/_forest.py:424: FutureWarning: `max_features='auto'` has been deprecated in 1.1 and will be removed in 1.3. To keep the past behaviour, explicitly set `max_features='sqrt'` or remove this parameter as it is also the default value for RandomForestClassifiers and ExtraTreesClassifiers.\n",
            "  warn(\n",
            "\n",
            "/usr/local/lib/python3.10/dist-packages/sklearn/ensemble/_forest.py:424: FutureWarning: `max_features='auto'` has been deprecated in 1.1 and will be removed in 1.3. To keep the past behaviour, explicitly set `max_features='sqrt'` or remove this parameter as it is also the default value for RandomForestClassifiers and ExtraTreesClassifiers.\n",
            "  warn(\n",
            "\n"
          ]
        },
        {
          "output_type": "stream",
          "name": "stdout",
          "text": [
            "\r 52%|█████▎    | 42/80 [49:55<22:59, 36.30s/trial, best loss: -0.849782830901208]"
          ]
        },
        {
          "output_type": "stream",
          "name": "stderr",
          "text": [
            "/usr/local/lib/python3.10/dist-packages/sklearn/ensemble/_forest.py:424: FutureWarning: `max_features='auto'` has been deprecated in 1.1 and will be removed in 1.3. To keep the past behaviour, explicitly set `max_features='sqrt'` or remove this parameter as it is also the default value for RandomForestClassifiers and ExtraTreesClassifiers.\n",
            "  warn(\n",
            "\n"
          ]
        },
        {
          "output_type": "stream",
          "name": "stdout",
          "text": [
            " 55%|█████▌    | 44/80 [1:06:26<3:03:12, 305.35s/trial, best loss: -0.849782830901208]"
          ]
        },
        {
          "output_type": "stream",
          "name": "stderr",
          "text": [
            "/usr/local/lib/python3.10/dist-packages/sklearn/ensemble/_forest.py:424: FutureWarning: `max_features='auto'` has been deprecated in 1.1 and will be removed in 1.3. To keep the past behaviour, explicitly set `max_features='sqrt'` or remove this parameter as it is also the default value for RandomForestClassifiers and ExtraTreesClassifiers.\n",
            "  warn(\n",
            "\n",
            "/usr/local/lib/python3.10/dist-packages/sklearn/ensemble/_forest.py:424: FutureWarning: `max_features='auto'` has been deprecated in 1.1 and will be removed in 1.3. To keep the past behaviour, explicitly set `max_features='sqrt'` or remove this parameter as it is also the default value for RandomForestClassifiers and ExtraTreesClassifiers.\n",
            "  warn(\n",
            "\n",
            "/usr/local/lib/python3.10/dist-packages/sklearn/ensemble/_forest.py:424: FutureWarning: `max_features='auto'` has been deprecated in 1.1 and will be removed in 1.3. To keep the past behaviour, explicitly set `max_features='sqrt'` or remove this parameter as it is also the default value for RandomForestClassifiers and ExtraTreesClassifiers.\n",
            "  warn(\n",
            "\n",
            "/usr/local/lib/python3.10/dist-packages/sklearn/ensemble/_forest.py:424: FutureWarning: `max_features='auto'` has been deprecated in 1.1 and will be removed in 1.3. To keep the past behaviour, explicitly set `max_features='sqrt'` or remove this parameter as it is also the default value for RandomForestClassifiers and ExtraTreesClassifiers.\n",
            "  warn(\n",
            "\n",
            "/usr/local/lib/python3.10/dist-packages/sklearn/ensemble/_forest.py:424: FutureWarning: `max_features='auto'` has been deprecated in 1.1 and will be removed in 1.3. To keep the past behaviour, explicitly set `max_features='sqrt'` or remove this parameter as it is also the default value for RandomForestClassifiers and ExtraTreesClassifiers.\n",
            "  warn(\n",
            "\n"
          ]
        },
        {
          "output_type": "stream",
          "name": "stdout",
          "text": [
            " 59%|█████▉    | 47/80 [1:07:43<1:07:30, 122.75s/trial, best loss: -0.849782830901208]"
          ]
        },
        {
          "output_type": "stream",
          "name": "stderr",
          "text": [
            "/usr/local/lib/python3.10/dist-packages/sklearn/ensemble/_forest.py:424: FutureWarning: `max_features='auto'` has been deprecated in 1.1 and will be removed in 1.3. To keep the past behaviour, explicitly set `max_features='sqrt'` or remove this parameter as it is also the default value for RandomForestClassifiers and ExtraTreesClassifiers.\n",
            "  warn(\n",
            "\n",
            "/usr/local/lib/python3.10/dist-packages/sklearn/ensemble/_forest.py:424: FutureWarning: `max_features='auto'` has been deprecated in 1.1 and will be removed in 1.3. To keep the past behaviour, explicitly set `max_features='sqrt'` or remove this parameter as it is also the default value for RandomForestClassifiers and ExtraTreesClassifiers.\n",
            "  warn(\n",
            "\n",
            "/usr/local/lib/python3.10/dist-packages/sklearn/ensemble/_forest.py:424: FutureWarning: `max_features='auto'` has been deprecated in 1.1 and will be removed in 1.3. To keep the past behaviour, explicitly set `max_features='sqrt'` or remove this parameter as it is also the default value for RandomForestClassifiers and ExtraTreesClassifiers.\n",
            "  warn(\n",
            "\n",
            "/usr/local/lib/python3.10/dist-packages/sklearn/ensemble/_forest.py:424: FutureWarning: `max_features='auto'` has been deprecated in 1.1 and will be removed in 1.3. To keep the past behaviour, explicitly set `max_features='sqrt'` or remove this parameter as it is also the default value for RandomForestClassifiers and ExtraTreesClassifiers.\n",
            "  warn(\n",
            "\n",
            "/usr/local/lib/python3.10/dist-packages/sklearn/ensemble/_forest.py:424: FutureWarning: `max_features='auto'` has been deprecated in 1.1 and will be removed in 1.3. To keep the past behaviour, explicitly set `max_features='sqrt'` or remove this parameter as it is also the default value for RandomForestClassifiers and ExtraTreesClassifiers.\n",
            "  warn(\n",
            "\n"
          ]
        },
        {
          "output_type": "stream",
          "name": "stdout",
          "text": [
            " 64%|██████▍   | 51/80 [1:13:18<45:46, 94.70s/trial, best loss: -0.849782830901208]   "
          ]
        },
        {
          "output_type": "stream",
          "name": "stderr",
          "text": [
            "/usr/local/lib/python3.10/dist-packages/sklearn/ensemble/_forest.py:424: FutureWarning: `max_features='auto'` has been deprecated in 1.1 and will be removed in 1.3. To keep the past behaviour, explicitly set `max_features='sqrt'` or remove this parameter as it is also the default value for RandomForestClassifiers and ExtraTreesClassifiers.\n",
            "  warn(\n",
            "\n",
            "/usr/local/lib/python3.10/dist-packages/sklearn/ensemble/_forest.py:424: FutureWarning: `max_features='auto'` has been deprecated in 1.1 and will be removed in 1.3. To keep the past behaviour, explicitly set `max_features='sqrt'` or remove this parameter as it is also the default value for RandomForestClassifiers and ExtraTreesClassifiers.\n",
            "  warn(\n",
            "\n",
            "/usr/local/lib/python3.10/dist-packages/sklearn/ensemble/_forest.py:424: FutureWarning: `max_features='auto'` has been deprecated in 1.1 and will be removed in 1.3. To keep the past behaviour, explicitly set `max_features='sqrt'` or remove this parameter as it is also the default value for RandomForestClassifiers and ExtraTreesClassifiers.\n",
            "  warn(\n",
            "\n",
            "/usr/local/lib/python3.10/dist-packages/sklearn/ensemble/_forest.py:424: FutureWarning: `max_features='auto'` has been deprecated in 1.1 and will be removed in 1.3. To keep the past behaviour, explicitly set `max_features='sqrt'` or remove this parameter as it is also the default value for RandomForestClassifiers and ExtraTreesClassifiers.\n",
            "  warn(\n",
            "\n",
            "/usr/local/lib/python3.10/dist-packages/sklearn/ensemble/_forest.py:424: FutureWarning: `max_features='auto'` has been deprecated in 1.1 and will be removed in 1.3. To keep the past behaviour, explicitly set `max_features='sqrt'` or remove this parameter as it is also the default value for RandomForestClassifiers and ExtraTreesClassifiers.\n",
            "  warn(\n",
            "\n"
          ]
        },
        {
          "output_type": "stream",
          "name": "stdout",
          "text": [
            " 68%|██████▊   | 54/80 [1:15:17<23:13, 53.61s/trial, best loss: -0.849782830901208]"
          ]
        },
        {
          "output_type": "stream",
          "name": "stderr",
          "text": [
            "/usr/local/lib/python3.10/dist-packages/sklearn/ensemble/_forest.py:424: FutureWarning: `max_features='auto'` has been deprecated in 1.1 and will be removed in 1.3. To keep the past behaviour, explicitly set `max_features='sqrt'` or remove this parameter as it is also the default value for RandomForestClassifiers and ExtraTreesClassifiers.\n",
            "  warn(\n",
            "\n",
            "/usr/local/lib/python3.10/dist-packages/sklearn/ensemble/_forest.py:424: FutureWarning: `max_features='auto'` has been deprecated in 1.1 and will be removed in 1.3. To keep the past behaviour, explicitly set `max_features='sqrt'` or remove this parameter as it is also the default value for RandomForestClassifiers and ExtraTreesClassifiers.\n",
            "  warn(\n",
            "\n",
            "/usr/local/lib/python3.10/dist-packages/sklearn/ensemble/_forest.py:424: FutureWarning: `max_features='auto'` has been deprecated in 1.1 and will be removed in 1.3. To keep the past behaviour, explicitly set `max_features='sqrt'` or remove this parameter as it is also the default value for RandomForestClassifiers and ExtraTreesClassifiers.\n",
            "  warn(\n",
            "\n",
            "/usr/local/lib/python3.10/dist-packages/sklearn/ensemble/_forest.py:424: FutureWarning: `max_features='auto'` has been deprecated in 1.1 and will be removed in 1.3. To keep the past behaviour, explicitly set `max_features='sqrt'` or remove this parameter as it is also the default value for RandomForestClassifiers and ExtraTreesClassifiers.\n",
            "  warn(\n",
            "\n",
            "/usr/local/lib/python3.10/dist-packages/sklearn/ensemble/_forest.py:424: FutureWarning: `max_features='auto'` has been deprecated in 1.1 and will be removed in 1.3. To keep the past behaviour, explicitly set `max_features='sqrt'` or remove this parameter as it is also the default value for RandomForestClassifiers and ExtraTreesClassifiers.\n",
            "  warn(\n",
            "\n"
          ]
        },
        {
          "output_type": "stream",
          "name": "stdout",
          "text": [
            " 71%|███████▏  | 57/80 [1:21:00<36:12, 94.44s/trial, best loss: -0.849782830901208]"
          ]
        }
      ]
    },
    {
      "cell_type": "code",
      "source": [
        "# Retrieve the best parameters\n",
        "best_params = space_eval(space, best)\n",
        "print(\"Best Hyperparameters:\")\n",
        "print(best_params)"
      ],
      "metadata": {
        "id": "P6aHzSg9Cl8k"
      },
      "execution_count": null,
      "outputs": []
    },
    {
      "cell_type": "code",
      "source": [
        "from sklearn.ensemble import RandomForestClassifier\n",
        "from sklearn.metrics import accuracy_score\n",
        "\n",
        "rf_hyp = RandomForestClassifier(\n",
        "    criterion=best_params['criterion'],\n",
        "    max_depth =best_params['max_depth'],\n",
        "    max_features=best_params['max_features'],\n",
        "    min_samples_leaf=best_params['min_samples_leaf'],\n",
        "    min_samples_split=best_params['min_samples_split'],\n",
        "    n_estimators=best_params['n_estimators']\n",
        ")\n",
        "\n",
        "rf_hyp.fit(X_pca_train, y_train)\n",
        "\n",
        "# Evaluate the performance of the XGBoost classifier hyper\n",
        "y_pred_rf_hyp = rf_hyp.predict(X_pca_test)\n",
        "score_rf_hyp = accuracy_score(y_test, y_pred_rf_hyp)\n",
        "print('Accuracy of Random Forest Classifier using HyperOPT:', score_rf_hyp)"
      ],
      "metadata": {
        "id": "OtwmJjoQCl6i"
      },
      "execution_count": null,
      "outputs": []
    },
    {
      "cell_type": "markdown",
      "source": [
        "# **TPOTClassifier**"
      ],
      "metadata": {
        "id": "L6QbLBFwHkn1"
      }
    },
    {
      "cell_type": "code",
      "source": [
        "!pip install tpot"
      ],
      "metadata": {
        "id": "uqWSmOMgMWdW",
        "colab": {
          "base_uri": "https://localhost:8080/"
        },
        "outputId": "5e49ba19-a973-4842-cb91-73ba1d841db7"
      },
      "execution_count": 10,
      "outputs": [
        {
          "output_type": "stream",
          "name": "stdout",
          "text": [
            "Collecting tpot\n",
            "  Downloading TPOT-0.12.1-py3-none-any.whl (87 kB)\n",
            "\u001b[2K     \u001b[90m━━━━━━━━━━━━━━━━━━━━━━━━━━━━━━━━━━━━━━━━\u001b[0m \u001b[32m87.4/87.4 kB\u001b[0m \u001b[31m1.4 MB/s\u001b[0m eta \u001b[36m0:00:00\u001b[0m\n",
            "\u001b[?25hRequirement already satisfied: numpy>=1.16.3 in /usr/local/lib/python3.10/dist-packages (from tpot) (1.23.5)\n",
            "Requirement already satisfied: scipy>=1.3.1 in /usr/local/lib/python3.10/dist-packages (from tpot) (1.11.4)\n",
            "Requirement already satisfied: scikit-learn>=0.22.0 in /usr/local/lib/python3.10/dist-packages (from tpot) (1.2.2)\n",
            "Collecting deap>=1.2 (from tpot)\n",
            "  Downloading deap-1.4.1-cp310-cp310-manylinux_2_5_x86_64.manylinux1_x86_64.manylinux_2_17_x86_64.manylinux2014_x86_64.whl (135 kB)\n",
            "\u001b[2K     \u001b[90m━━━━━━━━━━━━━━━━━━━━━━━━━━━━━━━━━━━━━━━━\u001b[0m \u001b[32m135.4/135.4 kB\u001b[0m \u001b[31m3.4 MB/s\u001b[0m eta \u001b[36m0:00:00\u001b[0m\n",
            "\u001b[?25hCollecting update-checker>=0.16 (from tpot)\n",
            "  Downloading update_checker-0.18.0-py3-none-any.whl (7.0 kB)\n",
            "Requirement already satisfied: tqdm>=4.36.1 in /usr/local/lib/python3.10/dist-packages (from tpot) (4.66.1)\n",
            "Collecting stopit>=1.1.1 (from tpot)\n",
            "  Downloading stopit-1.1.2.tar.gz (18 kB)\n",
            "  Preparing metadata (setup.py) ... \u001b[?25l\u001b[?25hdone\n",
            "Requirement already satisfied: pandas>=0.24.2 in /usr/local/lib/python3.10/dist-packages (from tpot) (1.5.3)\n",
            "Requirement already satisfied: joblib>=0.13.2 in /usr/local/lib/python3.10/dist-packages (from tpot) (1.3.2)\n",
            "Requirement already satisfied: xgboost>=1.1.0 in /usr/local/lib/python3.10/dist-packages (from tpot) (2.0.3)\n",
            "Requirement already satisfied: python-dateutil>=2.8.1 in /usr/local/lib/python3.10/dist-packages (from pandas>=0.24.2->tpot) (2.8.2)\n",
            "Requirement already satisfied: pytz>=2020.1 in /usr/local/lib/python3.10/dist-packages (from pandas>=0.24.2->tpot) (2023.3.post1)\n",
            "Requirement already satisfied: threadpoolctl>=2.0.0 in /usr/local/lib/python3.10/dist-packages (from scikit-learn>=0.22.0->tpot) (3.2.0)\n",
            "Requirement already satisfied: requests>=2.3.0 in /usr/local/lib/python3.10/dist-packages (from update-checker>=0.16->tpot) (2.31.0)\n",
            "Requirement already satisfied: six>=1.5 in /usr/local/lib/python3.10/dist-packages (from python-dateutil>=2.8.1->pandas>=0.24.2->tpot) (1.16.0)\n",
            "Requirement already satisfied: charset-normalizer<4,>=2 in /usr/local/lib/python3.10/dist-packages (from requests>=2.3.0->update-checker>=0.16->tpot) (3.3.2)\n",
            "Requirement already satisfied: idna<4,>=2.5 in /usr/local/lib/python3.10/dist-packages (from requests>=2.3.0->update-checker>=0.16->tpot) (3.6)\n",
            "Requirement already satisfied: urllib3<3,>=1.21.1 in /usr/local/lib/python3.10/dist-packages (from requests>=2.3.0->update-checker>=0.16->tpot) (2.0.7)\n",
            "Requirement already satisfied: certifi>=2017.4.17 in /usr/local/lib/python3.10/dist-packages (from requests>=2.3.0->update-checker>=0.16->tpot) (2023.11.17)\n",
            "Building wheels for collected packages: stopit\n",
            "  Building wheel for stopit (setup.py) ... \u001b[?25l\u001b[?25hdone\n",
            "  Created wheel for stopit: filename=stopit-1.1.2-py3-none-any.whl size=11937 sha256=67f31e0783050616cfb851e032a522345932bae4f23f4b396f7dabb24e8ededc\n",
            "  Stored in directory: /root/.cache/pip/wheels/af/f9/87/bf5b3d565c2a007b4dae9d8142dccc85a9f164e517062dd519\n",
            "Successfully built stopit\n",
            "Installing collected packages: stopit, deap, update-checker, tpot\n",
            "Successfully installed deap-1.4.1 stopit-1.1.2 tpot-0.12.1 update-checker-0.18.0\n"
          ]
        }
      ]
    },
    {
      "cell_type": "markdown",
      "source": [
        "# XGBClssifier"
      ],
      "metadata": {
        "id": "UjTh0ZiiK9Q7"
      }
    },
    {
      "cell_type": "code",
      "source": [
        "from tpot import TPOTClassifier\n",
        "\n",
        "tpot_config = {\n",
        "    'xgboost.XGBClassifier': {\n",
        "        'learning_rate': [0.01, 0.1, 0.2, 0.3],\n",
        "        'n_estimators': range(50, 500),\n",
        "        'max_depth': range(3, 10),\n",
        "        'subsample': [0.8, 0.9, 1.0],\n",
        "        'colsample_bytree': [0.8, 0.9, 1.0],\n",
        "        'gamma': [0, 0.1, 0.2, 0.3, 0.4],\n",
        "        'min_child_weight': range(1, 10)\n",
        "    }\n",
        "}"
      ],
      "metadata": {
        "id": "MAVDt-ywLJ5O"
      },
      "execution_count": 13,
      "outputs": []
    },
    {
      "cell_type": "code",
      "source": [
        "tpot = TPOTClassifier(generations=5, population_size=20, config_dict=tpot_config, verbosity=2, random_state=42, scoring='accuracy')\n",
        "tpot.fit(X_pca_train, y_train)"
      ],
      "metadata": {
        "id": "3SEgFm5VLPm4",
        "colab": {
          "base_uri": "https://localhost:8080/",
          "height": 470,
          "referenced_widgets": [
            "3cddad851389457a887b00e9dc34bc29",
            "968768bcae884e4fb7d00e229d54fe51",
            "51a90173907241689d61da102e041bb1",
            "3c0fa1057a994f9cb6b08ed6f00005b8",
            "de0d794bc5dc4ce9a58325450e838fdc",
            "eff5c7cff3c149e8bbeaca06633ca9a4",
            "87de4a78a155415a8809dbde6cd42a30",
            "1a8ab3f0ba4c4f2696d673c12d919c7c",
            "966bc6b667c74b74a37e0533ebdb4a5b",
            "f376b26c28ba4024988bf7d149674634",
            "48509b310e374e7d8246024ad877d376"
          ]
        },
        "outputId": "cc6cf483-c7f6-44f1-d512-5ad33dfe3c5a"
      },
      "execution_count": 14,
      "outputs": [
        {
          "output_type": "display_data",
          "data": {
            "text/plain": [
              "Optimization Progress:   0%|          | 0/120 [00:00<?, ?pipeline/s]"
            ],
            "application/vnd.jupyter.widget-view+json": {
              "version_major": 2,
              "version_minor": 0,
              "model_id": "3cddad851389457a887b00e9dc34bc29"
            }
          },
          "metadata": {}
        },
        {
          "output_type": "stream",
          "name": "stdout",
          "text": [
            "\n",
            "Generation 1 - Current best internal CV score: 0.9015074281958644\n",
            "\n",
            "Generation 2 - Current best internal CV score: 0.9017347370736944\n",
            "\n",
            "Generation 3 - Current best internal CV score: 0.9022349541109735\n",
            "\n",
            "Generation 4 - Current best internal CV score: 0.9022349541109735\n",
            "\n",
            "Generation 5 - Current best internal CV score: 0.9022349541109735\n",
            "\n",
            "Best pipeline: XGBClassifier(input_matrix, colsample_bytree=1.0, gamma=0.1, learning_rate=0.1, max_depth=7, min_child_weight=1, n_estimators=356, subsample=0.9)\n"
          ]
        },
        {
          "output_type": "execute_result",
          "data": {
            "text/plain": [
              "TPOTClassifier(config_dict={'xgboost.XGBClassifier': {'colsample_bytree': [0.8,\n",
              "                                                                           0.9,\n",
              "                                                                           1.0],\n",
              "                                                      'gamma': [0, 0.1, 0.2,\n",
              "                                                                0.3, 0.4],\n",
              "                                                      'learning_rate': [0.01,\n",
              "                                                                        0.1,\n",
              "                                                                        0.2,\n",
              "                                                                        0.3],\n",
              "                                                      'max_depth': range(3, 10),\n",
              "                                                      'min_child_weight': range(1, 10),\n",
              "                                                      'n_estimators': range(50, 500),\n",
              "                                                      'subsample': [0.8, 0.9,\n",
              "                                                                    1.0]}},\n",
              "               generations=5, population_size=20, random_state=42,\n",
              "               scoring='accuracy', verbosity=2)"
            ],
            "text/html": [
              "<style>#sk-container-id-1 {color: black;background-color: white;}#sk-container-id-1 pre{padding: 0;}#sk-container-id-1 div.sk-toggleable {background-color: white;}#sk-container-id-1 label.sk-toggleable__label {cursor: pointer;display: block;width: 100%;margin-bottom: 0;padding: 0.3em;box-sizing: border-box;text-align: center;}#sk-container-id-1 label.sk-toggleable__label-arrow:before {content: \"▸\";float: left;margin-right: 0.25em;color: #696969;}#sk-container-id-1 label.sk-toggleable__label-arrow:hover:before {color: black;}#sk-container-id-1 div.sk-estimator:hover label.sk-toggleable__label-arrow:before {color: black;}#sk-container-id-1 div.sk-toggleable__content {max-height: 0;max-width: 0;overflow: hidden;text-align: left;background-color: #f0f8ff;}#sk-container-id-1 div.sk-toggleable__content pre {margin: 0.2em;color: black;border-radius: 0.25em;background-color: #f0f8ff;}#sk-container-id-1 input.sk-toggleable__control:checked~div.sk-toggleable__content {max-height: 200px;max-width: 100%;overflow: auto;}#sk-container-id-1 input.sk-toggleable__control:checked~label.sk-toggleable__label-arrow:before {content: \"▾\";}#sk-container-id-1 div.sk-estimator input.sk-toggleable__control:checked~label.sk-toggleable__label {background-color: #d4ebff;}#sk-container-id-1 div.sk-label input.sk-toggleable__control:checked~label.sk-toggleable__label {background-color: #d4ebff;}#sk-container-id-1 input.sk-hidden--visually {border: 0;clip: rect(1px 1px 1px 1px);clip: rect(1px, 1px, 1px, 1px);height: 1px;margin: -1px;overflow: hidden;padding: 0;position: absolute;width: 1px;}#sk-container-id-1 div.sk-estimator {font-family: monospace;background-color: #f0f8ff;border: 1px dotted black;border-radius: 0.25em;box-sizing: border-box;margin-bottom: 0.5em;}#sk-container-id-1 div.sk-estimator:hover {background-color: #d4ebff;}#sk-container-id-1 div.sk-parallel-item::after {content: \"\";width: 100%;border-bottom: 1px solid gray;flex-grow: 1;}#sk-container-id-1 div.sk-label:hover label.sk-toggleable__label {background-color: #d4ebff;}#sk-container-id-1 div.sk-serial::before {content: \"\";position: absolute;border-left: 1px solid gray;box-sizing: border-box;top: 0;bottom: 0;left: 50%;z-index: 0;}#sk-container-id-1 div.sk-serial {display: flex;flex-direction: column;align-items: center;background-color: white;padding-right: 0.2em;padding-left: 0.2em;position: relative;}#sk-container-id-1 div.sk-item {position: relative;z-index: 1;}#sk-container-id-1 div.sk-parallel {display: flex;align-items: stretch;justify-content: center;background-color: white;position: relative;}#sk-container-id-1 div.sk-item::before, #sk-container-id-1 div.sk-parallel-item::before {content: \"\";position: absolute;border-left: 1px solid gray;box-sizing: border-box;top: 0;bottom: 0;left: 50%;z-index: -1;}#sk-container-id-1 div.sk-parallel-item {display: flex;flex-direction: column;z-index: 1;position: relative;background-color: white;}#sk-container-id-1 div.sk-parallel-item:first-child::after {align-self: flex-end;width: 50%;}#sk-container-id-1 div.sk-parallel-item:last-child::after {align-self: flex-start;width: 50%;}#sk-container-id-1 div.sk-parallel-item:only-child::after {width: 0;}#sk-container-id-1 div.sk-dashed-wrapped {border: 1px dashed gray;margin: 0 0.4em 0.5em 0.4em;box-sizing: border-box;padding-bottom: 0.4em;background-color: white;}#sk-container-id-1 div.sk-label label {font-family: monospace;font-weight: bold;display: inline-block;line-height: 1.2em;}#sk-container-id-1 div.sk-label-container {text-align: center;}#sk-container-id-1 div.sk-container {/* jupyter's `normalize.less` sets `[hidden] { display: none; }` but bootstrap.min.css set `[hidden] { display: none !important; }` so we also need the `!important` here to be able to override the default hidden behavior on the sphinx rendered scikit-learn.org. See: https://github.com/scikit-learn/scikit-learn/issues/21755 */display: inline-block !important;position: relative;}#sk-container-id-1 div.sk-text-repr-fallback {display: none;}</style><div id=\"sk-container-id-1\" class=\"sk-top-container\"><div class=\"sk-text-repr-fallback\"><pre>TPOTClassifier(config_dict={&#x27;xgboost.XGBClassifier&#x27;: {&#x27;colsample_bytree&#x27;: [0.8,\n",
              "                                                                           0.9,\n",
              "                                                                           1.0],\n",
              "                                                      &#x27;gamma&#x27;: [0, 0.1, 0.2,\n",
              "                                                                0.3, 0.4],\n",
              "                                                      &#x27;learning_rate&#x27;: [0.01,\n",
              "                                                                        0.1,\n",
              "                                                                        0.2,\n",
              "                                                                        0.3],\n",
              "                                                      &#x27;max_depth&#x27;: range(3, 10),\n",
              "                                                      &#x27;min_child_weight&#x27;: range(1, 10),\n",
              "                                                      &#x27;n_estimators&#x27;: range(50, 500),\n",
              "                                                      &#x27;subsample&#x27;: [0.8, 0.9,\n",
              "                                                                    1.0]}},\n",
              "               generations=5, population_size=20, random_state=42,\n",
              "               scoring=&#x27;accuracy&#x27;, verbosity=2)</pre><b>In a Jupyter environment, please rerun this cell to show the HTML representation or trust the notebook. <br />On GitHub, the HTML representation is unable to render, please try loading this page with nbviewer.org.</b></div><div class=\"sk-container\" hidden><div class=\"sk-item\"><div class=\"sk-estimator sk-toggleable\"><input class=\"sk-toggleable__control sk-hidden--visually\" id=\"sk-estimator-id-1\" type=\"checkbox\" checked><label for=\"sk-estimator-id-1\" class=\"sk-toggleable__label sk-toggleable__label-arrow\">TPOTClassifier</label><div class=\"sk-toggleable__content\"><pre>TPOTClassifier(config_dict={&#x27;xgboost.XGBClassifier&#x27;: {&#x27;colsample_bytree&#x27;: [0.8,\n",
              "                                                                           0.9,\n",
              "                                                                           1.0],\n",
              "                                                      &#x27;gamma&#x27;: [0, 0.1, 0.2,\n",
              "                                                                0.3, 0.4],\n",
              "                                                      &#x27;learning_rate&#x27;: [0.01,\n",
              "                                                                        0.1,\n",
              "                                                                        0.2,\n",
              "                                                                        0.3],\n",
              "                                                      &#x27;max_depth&#x27;: range(3, 10),\n",
              "                                                      &#x27;min_child_weight&#x27;: range(1, 10),\n",
              "                                                      &#x27;n_estimators&#x27;: range(50, 500),\n",
              "                                                      &#x27;subsample&#x27;: [0.8, 0.9,\n",
              "                                                                    1.0]}},\n",
              "               generations=5, population_size=20, random_state=42,\n",
              "               scoring=&#x27;accuracy&#x27;, verbosity=2)</pre></div></div></div></div></div>"
            ]
          },
          "metadata": {},
          "execution_count": 14
        }
      ]
    },
    {
      "cell_type": "code",
      "source": [
        "accuracy = tpot.score(X_pca_test, y_test)\n",
        "print(\"Test Accuracy:\", accuracy)"
      ],
      "metadata": {
        "id": "DG3iRt7nLns-",
        "colab": {
          "base_uri": "https://localhost:8080/"
        },
        "outputId": "1231fab1-2a9f-4f7a-f4ad-686dc24dc0f7"
      },
      "execution_count": 15,
      "outputs": [
        {
          "output_type": "stream",
          "name": "stdout",
          "text": [
            "Test Accuracy: 0.9038330377847497\n"
          ]
        }
      ]
    },
    {
      "cell_type": "code",
      "source": [
        "tpot.get_params"
      ],
      "metadata": {
        "colab": {
          "base_uri": "https://localhost:8080/"
        },
        "id": "nElk82LsI3L0",
        "outputId": "31376c20-6208-440a-fa25-9d7d56d5f63d"
      },
      "execution_count": 16,
      "outputs": [
        {
          "output_type": "execute_result",
          "data": {
            "text/plain": [
              "<bound method BaseEstimator.get_params of TPOTClassifier(config_dict={'xgboost.XGBClassifier': {'colsample_bytree': [0.8,\n",
              "                                                                           0.9,\n",
              "                                                                           1.0],\n",
              "                                                      'gamma': [0, 0.1, 0.2,\n",
              "                                                                0.3, 0.4],\n",
              "                                                      'learning_rate': [0.01,\n",
              "                                                                        0.1,\n",
              "                                                                        0.2,\n",
              "                                                                        0.3],\n",
              "                                                      'max_depth': range(3, 10),\n",
              "                                                      'min_child_weight': range(1, 10),\n",
              "                                                      'n_estimators': range(50, 500),\n",
              "                                                      'subsample': [0.8, 0.9,\n",
              "                                                                    1.0]}},\n",
              "               generations=5, population_size=20, random_state=42,\n",
              "               scoring='accuracy', verbosity=2)>"
            ]
          },
          "metadata": {},
          "execution_count": 16
        }
      ]
    },
    {
      "cell_type": "code",
      "source": [
        "import joblib\n",
        "\n",
        "# Save only the fitted pipeline of TPOT\n",
        "joblib.dump(tpot.fitted_pipeline_, '/content/tpot_xgbclassifier_pipeline.joblib')\n"
      ],
      "metadata": {
        "colab": {
          "base_uri": "https://localhost:8080/"
        },
        "id": "jhZbMLayNKDe",
        "outputId": "136300df-07df-487b-c95a-0b749310c40b"
      },
      "execution_count": 30,
      "outputs": [
        {
          "output_type": "execute_result",
          "data": {
            "text/plain": [
              "['/content/tpot_xgbclassifier_pipeline.joblib']"
            ]
          },
          "metadata": {},
          "execution_count": 30
        }
      ]
    },
    {
      "cell_type": "markdown",
      "source": [
        "# Random Forest Classifier"
      ],
      "metadata": {
        "id": "Tz6xtwSmKzoP"
      }
    },
    {
      "cell_type": "code",
      "source": [
        "import numpy as np\n",
        "from sklearn.model_selection import RandomizedSearchCV\n",
        "# Number of trees in random forest\n",
        "n_estimators = [int(x) for x in np.linspace(start = 200, stop = 2000, num = 10)]\n",
        "# Number of features to consider at every split\n",
        "max_features = ['auto', 'sqrt','log2']\n",
        "# Maximum number of levels in tree\n",
        "max_depth = [int(x) for x in np.linspace(10, 1000,10)]\n",
        "# Minimum number of samples required to split a node\n",
        "min_samples_split = [2, 5, 10,14]\n",
        "# Minimum number of samples required at each leaf node\n",
        "min_samples_leaf = [1, 2, 4,6,8]\n",
        "# Create the random grid\n",
        "param = {'n_estimators': n_estimators,\n",
        "               'max_features': max_features,\n",
        "               'max_depth': max_depth,\n",
        "               'min_samples_split': min_samples_split,\n",
        "               'min_samples_leaf': min_samples_leaf,\n",
        "              'criterion':['entropy','gini']}\n",
        "print(param)"
      ],
      "metadata": {
        "id": "jrqn25eJBAHM",
        "colab": {
          "base_uri": "https://localhost:8080/"
        },
        "outputId": "1a77b213-47e0-424f-db47-06258061bcc3"
      },
      "execution_count": 33,
      "outputs": [
        {
          "output_type": "stream",
          "name": "stdout",
          "text": [
            "{'n_estimators': [200, 400, 600, 800, 1000, 1200, 1400, 1600, 1800, 2000], 'max_features': ['auto', 'sqrt', 'log2'], 'max_depth': [10, 120, 230, 340, 450, 560, 670, 780, 890, 1000], 'min_samples_split': [2, 5, 10, 14], 'min_samples_leaf': [1, 2, 4, 6, 8], 'criterion': ['entropy', 'gini']}\n"
          ]
        }
      ]
    },
    {
      "cell_type": "code",
      "source": [
        "\n",
        "from tpot import TPOTClassifier\n",
        "\n",
        "\n",
        "tpot_classifier = TPOTClassifier(generations= 5, population_size= 24, offspring_size= 12,\n",
        "                                 verbosity= 2, early_stop= 12,\n",
        "                                 config_dict={'sklearn.ensemble.RandomForestClassifier': param},\n",
        "                                 cv = 4, scoring = 'accuracy')\n",
        "tpot_classifier.fit(X_pca_train,y_train)"
      ],
      "metadata": {
        "id": "JF3hAqCAHhsJ",
        "colab": {
          "base_uri": "https://localhost:8080/",
          "height": 85,
          "referenced_widgets": [
            "94316c6be834459eb1f1022f0c845b00",
            "30b0cf369cba48e985a134889c8ad24d",
            "7e6288d568fd41889f082f4225373666",
            "64354ddaf18a4d189ccaa78255ee585f",
            "a51341a5d2c74b798906b7243f676a9f",
            "527fc7dde51b4de28d14403364aec302",
            "98428713edb24948a459bd15c065b058",
            "9c9df56c28854419ad5594ccc7fd65fe",
            "dd47d9dca7084b6b8daa5189a5a47dfd",
            "9c4e2ad1fbba4c23b10d852f24de8f7f",
            "17496a7dbc71420e88086278f3eb1c1b"
          ]
        },
        "outputId": "c8560b39-41fc-4e39-8749-488d5816c85d"
      },
      "execution_count": null,
      "outputs": [
        {
          "output_type": "display_data",
          "data": {
            "text/plain": [
              "Optimization Progress:   0%|          | 0/84 [00:00<?, ?pipeline/s]"
            ],
            "application/vnd.jupyter.widget-view+json": {
              "version_major": 2,
              "version_minor": 0,
              "model_id": "94316c6be834459eb1f1022f0c845b00"
            }
          },
          "metadata": {}
        },
        {
          "output_type": "stream",
          "name": "stdout",
          "text": [
            "\n",
            "Generation 1 - Current best internal CV score: 0.9015301835336046\n"
          ]
        }
      ]
    },
    {
      "cell_type": "code",
      "source": [
        "accuracy = tpot_classifier.score(X_pca_test, y_test)\n",
        "print(accuracy)"
      ],
      "metadata": {
        "id": "pvYnY7PXHivy"
      },
      "execution_count": null,
      "outputs": []
    },
    {
      "cell_type": "code",
      "source": [
        "tpot_classifier.get_params"
      ],
      "metadata": {
        "id": "eMiToOwpQnHe"
      },
      "execution_count": null,
      "outputs": []
    },
    {
      "cell_type": "code",
      "source": [
        "import joblib\n",
        "\n",
        "# Save only the fitted pipeline of TPOT\n",
        "joblib.dump(tpot_classifier.fitted_pipeline_, '/content/tpot_randomforestclassifier_pipeline.joblib')\n"
      ],
      "metadata": {
        "id": "0XSQ6dNfZZTI"
      },
      "execution_count": null,
      "outputs": []
    },
    {
      "cell_type": "markdown",
      "source": [
        "# **Optuna**"
      ],
      "metadata": {
        "id": "CxqDhfGcQnsF"
      }
    },
    {
      "cell_type": "markdown",
      "source": [
        "# XGBClassifier"
      ],
      "metadata": {
        "id": "bF_ifrsvQtTg"
      }
    },
    {
      "cell_type": "code",
      "source": [
        "!pip install optuna"
      ],
      "metadata": {
        "id": "pEA06KBjREZv"
      },
      "execution_count": null,
      "outputs": []
    },
    {
      "cell_type": "code",
      "source": [
        "import optuna\n",
        "from xgboost import XGBClassifier\n",
        "from sklearn.metrics import accuracy_score\n",
        "\n",
        "def objective(trial,X_pca_train,y_train,X_pca_test,y_test):\n",
        "    train_x, valid_x, train_y, valid_y = X_pca_train,X_pca_test,y_train,y_test\n",
        "\n",
        "    params = {\n",
        "        'learning_rate': trial.suggest_float(\"learning_rate\", 0.01, 0.3, log=True),\n",
        "        'n_estimators': trial.suggest_int(\"n_estimators\", 50, 500),\n",
        "        'max_depth': trial.suggest_int(\"max_depth\", 3, 10),\n",
        "        'subsample': trial.suggest_categorical(\"subsample\", [0.8, 0.9, 1.0]),\n",
        "        'colsample_bytree': trial.suggest_categorical(\"colsample_bytree\", [0.8, 0.9, 1.0]),\n",
        "        'gamma': trial.suggest_categorical(\"gamma\", [0, 0.1, 0.2, 0.3, 0.4]),\n",
        "        'min_child_weight': trial.suggest_int(\"min_child_weight\", 1, 10)\n",
        "    }\n",
        "\n",
        "    # Create XGBoost classifier with the suggested hyperparameters\n",
        "    clf = XGBClassifier(**params)\n",
        "\n",
        "    # Train the classifier on the training set\n",
        "    clf.fit(train_x, train_y)\n",
        "\n",
        "    # Calculate accuracy on the validation set\n",
        "    accuracy = accuracy_score(valid_y, clf.predict(valid_x))\n",
        "\n",
        "    return 1.0 - accuracy  # Optimize for accuracy"
      ],
      "metadata": {
        "id": "WrRQuZOuQm6S"
      },
      "execution_count": null,
      "outputs": []
    },
    {
      "cell_type": "code",
      "source": [
        "\n",
        "# Create a study object and optimize the objective function\n",
        "study = optuna.create_study(direction=\"minimize\")  # Minimize because we want to minimize 1.0 - accuracy\n",
        "study.optimize(objective, n_trials=100)\n",
        "\n",
        "# Get the best hyperparameters\n",
        "best_params = study.best_params\n",
        "print(\"Best Hyperparameters:\", best_params)"
      ],
      "metadata": {
        "id": "HjvbULaHQmuH"
      },
      "execution_count": null,
      "outputs": []
    },
    {
      "cell_type": "code",
      "source": [],
      "metadata": {
        "id": "cYKrOgb2beHE"
      },
      "execution_count": null,
      "outputs": []
    },
    {
      "cell_type": "markdown",
      "source": [
        "# **Data Extraction From Url**"
      ],
      "metadata": {
        "id": "BUvwrqbuBMg_"
      }
    },
    {
      "cell_type": "code",
      "source": [
        "import re\n",
        "import socket"
      ],
      "metadata": {
        "id": "htt1Jf25g-BR"
      },
      "execution_count": 18,
      "outputs": []
    },
    {
      "cell_type": "code",
      "source": [
        "def extract_additional_url_features(url):\n",
        "    parsed_url = urlparse(url)\n",
        "\n",
        "    # Extracting features based on characters in the URL\n",
        "    char_count_features = {\n",
        "        'qty_dot_url': url.count('.'),\n",
        "        'qty_hyphen_url': url.count('-'),\n",
        "        'qty_underline_url': url.count('_'),\n",
        "        'qty_slash_url': url.count('/'),\n",
        "        'qty_questionmark_url': url.count('?'),\n",
        "        'qty_equal_url': url.count('='),\n",
        "        'qty_at_url': url.count('@'),\n",
        "        'qty_exclamation_url': url.count('!'),\n",
        "        'qty_space_url': url.count(' '),\n",
        "        'qty_tilde_url': url.count('~'),\n",
        "        'qty_comma_url': url.count(','),\n",
        "        'qty_plus_url': url.count('+'),\n",
        "        'qty_asterisk_url': url.count('*'),\n",
        "        'qty_hashtag_url': url.count('#'),\n",
        "        'qty_dollar_url': url.count('$'),\n",
        "        'qty_percent_url': url.count('%'),\n",
        "        'qty_tld_url': url.count('.') - 1,  # Subtracting 1 to exclude the dot in TLD\n",
        "        'length_url': len(url)\n",
        "    }\n",
        "\n",
        "    return char_count_features"
      ],
      "metadata": {
        "id": "48QsPO7vhUmn"
      },
      "execution_count": 19,
      "outputs": []
    },
    {
      "cell_type": "code",
      "source": [
        "\n",
        "def extract_additional_domain_features(url):\n",
        "    parsed_url = urlparse(url)\n",
        "    domain = parsed_url.netloc\n",
        "\n",
        "    # Extracting features based on characters in the domain\n",
        "    char_count_features = {\n",
        "        'qty_dot_domain': domain.count('.'),\n",
        "        'qty_hyphen_domain': domain.count('-'),\n",
        "        'qty_underline_domain': domain.count('_'),\n",
        "        'qty_at_domain': domain.count('@'),\n",
        "        'qty_vowels_domain': sum(1 for char in domain if char.lower() in 'aeiou'),\n",
        "    }\n",
        "\n",
        "    # Check if the domain is an IP address\n",
        "    try:\n",
        "        ip_address = socket.gethostbyname(domain)\n",
        "        domain_in_ip = 1\n",
        "    except socket.error:\n",
        "        domain_in_ip = 0\n",
        "\n",
        "    # Check if \"server\" or \"client\" is present as a separate word in the domain\n",
        "    server_client_domain = 1 if re.search(r'\\b(server|client)\\b', domain, flags=re.IGNORECASE) else 0\n",
        "\n",
        "    char_count_features['domain_in_ip'] = domain_in_ip\n",
        "    char_count_features['server_client_domain'] = server_client_domain\n",
        "\n",
        "    return char_count_features\n"
      ],
      "metadata": {
        "id": "Scc08qIuhW3l"
      },
      "execution_count": 20,
      "outputs": []
    },
    {
      "cell_type": "code",
      "source": [
        "def extract_additional_path_features(url):\n",
        "    parsed_url = urlparse(url)\n",
        "    path = parsed_url.path\n",
        "\n",
        "    # Extracting features based on characters in the directory\n",
        "    directory_features = {\n",
        "        'qty_dot_directory': path.count('.'),\n",
        "        'qty_hyphen_directory': path.count('-'),\n",
        "        'qty_underline_directory': path.count('_'),\n",
        "        'qty_questionmark_directory': path.count('?'),\n",
        "        'directory_length': len(path),\n",
        "    }\n",
        "\n",
        "    # Extracting features based on characters in the file\n",
        "    file_features = {\n",
        "        'qty_hyphen_file': parsed_url.path.rfind('-'),\n",
        "        'file_length': len(parsed_url.path),\n",
        "    }\n",
        "\n",
        "    return {**directory_features, **file_features}"
      ],
      "metadata": {
        "id": "YVj8AZ4Hhcjp"
      },
      "execution_count": 21,
      "outputs": []
    },
    {
      "cell_type": "code",
      "source": [
        "def extract_additional_params_features(url):\n",
        "    parsed_url = urlparse(url)\n",
        "    params = parse_qs(parsed_url.query)\n",
        "\n",
        "    # Extracting features based on characters in the parameters\n",
        "    params_features = {\n",
        "        'qty_dot_params': sum(value[0].count('.') for value in params.values()),\n",
        "        'qty_hyphen_params': sum(value[0].count('-') for value in params.values()),\n",
        "        'qty_underline_params': sum(value[0].count('_') for value in params.values()),\n",
        "        'qty_slash_params': sum(value[0].count('/') for value in params.values()),\n",
        "        'qty_questionmark_params': sum(value[0].count('?') for value in params.values()),\n",
        "        'qty_percent_params': sum(value[0].count('%') for value in params.values()),\n",
        "    }\n",
        "\n",
        "    return params_features"
      ],
      "metadata": {
        "id": "Gg7oAEYmhfLe"
      },
      "execution_count": 22,
      "outputs": []
    },
    {
      "cell_type": "code",
      "source": [
        "from urllib.parse import urlparse\n",
        "\n",
        "# Function to check if an email is present in the URL\n",
        "def email_in_url(url):\n",
        "    return 1 if re.search(r'\\b[A-Za-z0-9._%+-]+@[A-Za-z0-9.-]+\\.[A-Z|a-z]{2,}\\b', url) else 0\n",
        "\n",
        "'''def url_shortened(url):\n",
        "    return 1 if len(url) <= 25 else 0\n",
        "\n",
        "def time_domain_activation(domain_info):\n",
        "    if isinstance(domain_info.creation_date, list) and isinstance(domain_info.updated_date, list):\n",
        "        # If creation_date and updated_date are lists, take the first element\n",
        "        creation_date = domain_info.creation_date[0]\n",
        "        updated_date = domain_info.updated_date[0]\n",
        "    else:\n",
        "        # Otherwise, use the original values\n",
        "        creation_date = domain_info.creation_date\n",
        "        updated_date = domain_info.updated_date\n",
        "\n",
        "    try:\n",
        "        return (creation_date - updated_date).days\n",
        "    except TypeError:\n",
        "        return None\n",
        "\n",
        "# Function to get the time of domain expiration\n",
        "def time_domain_expiration(domain):\n",
        "    try:\n",
        "        domain_info = whois.whois(domain)\n",
        "        return (domain_info.expiration_date - domain_info.creation_date).days\n",
        "    except whois.parser.PywhoisError:\n",
        "        return None'''"
      ],
      "metadata": {
        "colab": {
          "base_uri": "https://localhost:8080/",
          "height": 0
        },
        "id": "Q1OAKJfohiGm",
        "outputId": "65981447-fced-4410-ebfc-392a0116289d"
      },
      "execution_count": 23,
      "outputs": [
        {
          "output_type": "execute_result",
          "data": {
            "text/plain": [
              "'def url_shortened(url):\\n    return 1 if len(url) <= 25 else 0\\n\\ndef time_domain_activation(domain_info):\\n    if isinstance(domain_info.creation_date, list) and isinstance(domain_info.updated_date, list):\\n        # If creation_date and updated_date are lists, take the first element\\n        creation_date = domain_info.creation_date[0]\\n        updated_date = domain_info.updated_date[0]\\n    else:\\n        # Otherwise, use the original values\\n        creation_date = domain_info.creation_date\\n        updated_date = domain_info.updated_date\\n\\n    try:\\n        return (creation_date - updated_date).days\\n    except TypeError:\\n        return None\\n\\n# Function to get the time of domain expiration\\ndef time_domain_expiration(domain):\\n    try:\\n        domain_info = whois.whois(domain)\\n        return (domain_info.expiration_date - domain_info.creation_date).days\\n    except whois.parser.PywhoisError:\\n        return None'"
            ],
            "application/vnd.google.colaboratory.intrinsic+json": {
              "type": "string"
            }
          },
          "metadata": {},
          "execution_count": 23
        }
      ]
    },
    {
      "cell_type": "code",
      "source": [
        "\n",
        "from urllib.parse import urlparse, parse_qs\n",
        "\n",
        "def extract_all_features(url):\n",
        "    parsed_url = urlparse(url)\n",
        "    # Extract URL-based features\n",
        "    url_features = extract_additional_url_features(url)\n",
        "\n",
        "    # Extract Domain-based features\n",
        "    domain_features = extract_additional_domain_features(url)\n",
        "\n",
        "    # Extract Page-based features\n",
        "    path_features = extract_additional_path_features(url)\n",
        "\n",
        "    # Extract Params-based features\n",
        "    params_features = extract_additional_params_features(url)\n",
        "\n",
        "    # Extract Additional Features\n",
        "    additional_features = {\n",
        "        'email_in_url': email_in_url(url),\n",
        "        #'time_domain_activation': time_domain_activation(parsed_url.netloc),\n",
        "        #'time_domain_expiration': time_domain_expiration(parsed_url.netloc),\n",
        "        #'url_shortened': url_shortened(url),\n",
        "    }\n",
        "\n",
        "    # Combine all features\n",
        "    all_features = {**url_features, **domain_features, **path_features, **params_features, **additional_features}\n",
        "\n",
        "    return all_features\n",
        "\n",
        "# Example usage:\n",
        "url = \"http://example.com/path/to/page?param1=value1&param2=value2\"\n",
        "all_extracted_features = extract_all_features(url)\n",
        "\n",
        "# Display the extracted features\n",
        "print(all_extracted_features)\n"
      ],
      "metadata": {
        "colab": {
          "base_uri": "https://localhost:8080/"
        },
        "id": "8ap0DP-MhyZL",
        "outputId": "e3152e95-8160-4a05-9f51-e8090364fa37"
      },
      "execution_count": 24,
      "outputs": [
        {
          "output_type": "stream",
          "name": "stdout",
          "text": [
            "{'qty_dot_url': 1, 'qty_hyphen_url': 0, 'qty_underline_url': 0, 'qty_slash_url': 5, 'qty_questionmark_url': 1, 'qty_equal_url': 2, 'qty_at_url': 0, 'qty_exclamation_url': 0, 'qty_space_url': 0, 'qty_tilde_url': 0, 'qty_comma_url': 0, 'qty_plus_url': 0, 'qty_asterisk_url': 0, 'qty_hashtag_url': 0, 'qty_dollar_url': 0, 'qty_percent_url': 0, 'qty_tld_url': 0, 'length_url': 59, 'qty_dot_domain': 1, 'qty_hyphen_domain': 0, 'qty_underline_domain': 0, 'qty_at_domain': 0, 'qty_vowels_domain': 4, 'domain_in_ip': 1, 'server_client_domain': 0, 'qty_dot_directory': 0, 'qty_hyphen_directory': 0, 'qty_underline_directory': 0, 'qty_questionmark_directory': 0, 'directory_length': 13, 'qty_hyphen_file': -1, 'file_length': 13, 'qty_dot_params': 0, 'qty_hyphen_params': 0, 'qty_underline_params': 0, 'qty_slash_params': 0, 'qty_questionmark_params': 0, 'qty_percent_params': 0, 'email_in_url': 0}\n"
          ]
        }
      ]
    },
    {
      "cell_type": "markdown",
      "source": [
        "# **Testing**"
      ],
      "metadata": {
        "id": "lE7ySeQUFkFk"
      }
    },
    {
      "cell_type": "markdown",
      "source": [
        "# HyperOPT XGBClassifier"
      ],
      "metadata": {
        "id": "0ozNQN1rFpCa"
      }
    },
    {
      "cell_type": "code",
      "source": [
        "url = \"http://app.validchk.com/visitqr.aspx?vid=1073653\"\n",
        "extracted_features = extract_all_features(url)\n",
        "\n",
        "# Extract features and reshape into a 2D array\n",
        "data = np.array(list(extracted_features.values())).reshape(1, -1)\n",
        "\n",
        "# Assuming you have a scaler object\n",
        "scaled_data = scaler.transform(data)\n",
        "\n",
        "# Assuming you have a PCA object\n",
        "pca_transformed_data = pca.transform(scaled_data)\n",
        "\n",
        "# Use the trained XGBBoost for prediction\n",
        "prediction = xgb_hyp.predict(pca_transformed_data)\n",
        "print(prediction)"
      ],
      "metadata": {
        "colab": {
          "base_uri": "https://localhost:8080/"
        },
        "id": "16fxWF_rh29q",
        "outputId": "5705e413-40b5-4b76-c17f-bcb02728ee66"
      },
      "execution_count": null,
      "outputs": [
        {
          "output_type": "stream",
          "name": "stdout",
          "text": [
            "[1]\n"
          ]
        },
        {
          "output_type": "stream",
          "name": "stderr",
          "text": [
            "/usr/local/lib/python3.10/dist-packages/sklearn/base.py:439: UserWarning: X does not have valid feature names, but StandardScaler was fitted with feature names\n",
            "  warnings.warn(\n"
          ]
        }
      ]
    },
    {
      "cell_type": "markdown",
      "source": [
        "# HyperOPT Random Forest Classifier"
      ],
      "metadata": {
        "id": "1TmevFO3Fzz9"
      }
    },
    {
      "cell_type": "code",
      "source": [
        "url = \"http://app.validchk.com/visitqr.aspx?vid=1073653\"\n",
        "extracted_features = extract_all_features(url)\n",
        "\n",
        "# Extract features and reshape into a 2D array\n",
        "data = np.array(list(extracted_features.values())).reshape(1, -1)\n",
        "\n",
        "# Assuming you have a scaler object\n",
        "scaled_data = scaler.transform(data)\n",
        "\n",
        "# Assuming you have a PCA object\n",
        "pca_transformed_data = pca.transform(scaled_data)\n",
        "\n",
        "# Use the trained XGBBoost for prediction\n",
        "prediction = rf_hyp.predict(pca_transformed_data)\n",
        "print(prediction)"
      ],
      "metadata": {
        "colab": {
          "base_uri": "https://localhost:8080/"
        },
        "id": "O8HgXvj9iKAx",
        "outputId": "9458c4dd-ef24-4c63-cbbc-229846a4c457"
      },
      "execution_count": null,
      "outputs": [
        {
          "output_type": "execute_result",
          "data": {
            "text/plain": [
              "array([[ 3.89625317, -2.77028969, -1.01534515, -1.5399523 , -1.37525167,\n",
              "         3.87685379, -1.00835236,  4.63073484,  5.3159082 , -7.51699881,\n",
              "        -4.32969553,  5.15898124, -0.03700143,  0.6175854 , -2.4718587 ,\n",
              "        -4.37237251, -1.51808813, -3.84874513, -3.22719764,  2.09611946]])"
            ]
          },
          "metadata": {},
          "execution_count": 21
        }
      ]
    },
    {
      "cell_type": "markdown",
      "source": [
        "# TPOTClassifier Xgboost"
      ],
      "metadata": {
        "id": "8SnUxyGDMgYa"
      }
    },
    {
      "cell_type": "code",
      "source": [
        "url = \"http://app.validchk.com/visitqr.aspx?vid=1073653\"\n",
        "extracted_features = extract_all_features(url)\n",
        "# Load the fitted pipeline\n",
        "loaded_pipeline = joblib.load('/content/tpot_xgbclassifier_pipeline.joblib')\n",
        "\n",
        "# Now you can use loaded_pipeline for predictions\n",
        "\n",
        "# Extract features and reshape into a 2D array\n",
        "data = np.array(list(extracted_features.values())).reshape(1, -1)\n",
        "\n",
        "# Assuming you have a scaler object\n",
        "scaled_data = scaler.transform(data)\n",
        "\n",
        "# Assuming you have a PCA object\n",
        "pca_transformed_data = pca.transform(scaled_data)\n",
        "\n",
        "# Use the trained XGBBoost for prediction\n",
        "#prediction = loaded_pipeline.predict(pca_transformed_data)\n",
        "prediction = tpot.predict(pca_transformed_data)\n",
        "\n",
        "print(prediction)"
      ],
      "metadata": {
        "id": "mEK68uikMQpe",
        "colab": {
          "base_uri": "https://localhost:8080/"
        },
        "outputId": "775903fc-9b2b-4c7d-cc4d-c00275389d2c"
      },
      "execution_count": 32,
      "outputs": [
        {
          "output_type": "stream",
          "name": "stdout",
          "text": [
            "[1]\n"
          ]
        },
        {
          "output_type": "stream",
          "name": "stderr",
          "text": [
            "/usr/local/lib/python3.10/dist-packages/sklearn/base.py:439: UserWarning: X does not have valid feature names, but StandardScaler was fitted with feature names\n",
            "  warnings.warn(\n"
          ]
        }
      ]
    },
    {
      "cell_type": "markdown",
      "source": [
        "# TPOTClassifier Random Forest"
      ],
      "metadata": {
        "id": "E_GDztv0MqOn"
      }
    },
    {
      "cell_type": "code",
      "source": [
        "url = \"http://app.validchk.com/visitqr.aspx?vid=1073653\"\n",
        "extracted_features = extract_all_features(url)\n",
        "\n",
        "# Extract features and reshape into a 2D array\n",
        "data = np.array(list(extracted_features.values())).reshape(1, -1)\n",
        "\n",
        "# Assuming you have a scaler object\n",
        "scaled_data = scaler.transform(data)\n",
        "\n",
        "# Assuming you have a PCA object\n",
        "pca_transformed_data = pca.transform(scaled_data)\n",
        "\n",
        "# Use the trained XGBBoost for prediction\n",
        "prediction = xgb_hyp.predict(pca_transformed_data)\n",
        "print(prediction)"
      ],
      "metadata": {
        "id": "-wqR2Hf9MtW3"
      },
      "execution_count": null,
      "outputs": []
    }
  ]
}